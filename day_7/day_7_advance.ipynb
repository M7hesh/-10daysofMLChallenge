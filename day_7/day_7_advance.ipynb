{
  "nbformat": 4,
  "nbformat_minor": 0,
  "metadata": {
    "colab": {
      "name": "day_7_advance.ipynb",
      "provenance": []
    },
    "kernelspec": {
      "name": "python3",
      "display_name": "Python 3"
    }
  },
  "cells": [
    {
      "cell_type": "code",
      "metadata": {
        "id": "1Y44Fsgttswf",
        "colab_type": "code",
        "colab": {}
      },
      "source": [
        "import re\n",
        "import numpy as np \n",
        "import pandas as pd \n",
        "import matplotlib.pyplot as plt\n",
        "from sklearn.model_selection import train_test_split\n",
        "from tensorflow.keras.preprocessing.text import Tokenizer\n",
        "from tensorflow.keras.preprocessing.sequence import pad_sequences\n",
        "from tensorflow.keras.models import Sequential\n",
        "from tensorflow.keras.layers import Dense, Embedding, LSTM, SpatialDropout1D\n",
        "import sklearn\n",
        "import tensorflow as tf\n",
        "import seaborn as sns"
      ],
      "execution_count": 0,
      "outputs": []
    },
    {
      "cell_type": "code",
      "metadata": {
        "id": "Gz2QkBA7x8go",
        "colab_type": "code",
        "outputId": "3b205397-ca5a-4d70-cf26-f1625d9aab17",
        "colab": {
          "base_uri": "https://localhost:8080/",
          "height": 202
        }
      },
      "source": [
        "test=pd.read_csv('/content/drive/My Drive/datasets/Tensorflow  community challenge /Datasets /twitter toxic and hatred speech/test.csv')\n",
        "train=pd.read_csv('/content/drive/My Drive/datasets/Tensorflow  community challenge /Datasets /twitter toxic and hatred speech/train.csv')\n",
        "train.head()"
      ],
      "execution_count": 2,
      "outputs": [
        {
          "output_type": "execute_result",
          "data": {
            "text/html": [
              "<div>\n",
              "<style scoped>\n",
              "    .dataframe tbody tr th:only-of-type {\n",
              "        vertical-align: middle;\n",
              "    }\n",
              "\n",
              "    .dataframe tbody tr th {\n",
              "        vertical-align: top;\n",
              "    }\n",
              "\n",
              "    .dataframe thead th {\n",
              "        text-align: right;\n",
              "    }\n",
              "</style>\n",
              "<table border=\"1\" class=\"dataframe\">\n",
              "  <thead>\n",
              "    <tr style=\"text-align: right;\">\n",
              "      <th></th>\n",
              "      <th>id</th>\n",
              "      <th>label</th>\n",
              "      <th>tweet</th>\n",
              "    </tr>\n",
              "  </thead>\n",
              "  <tbody>\n",
              "    <tr>\n",
              "      <th>0</th>\n",
              "      <td>1</td>\n",
              "      <td>0</td>\n",
              "      <td>@user when a father is dysfunctional and is s...</td>\n",
              "    </tr>\n",
              "    <tr>\n",
              "      <th>1</th>\n",
              "      <td>2</td>\n",
              "      <td>0</td>\n",
              "      <td>@user @user thanks for #lyft credit i can't us...</td>\n",
              "    </tr>\n",
              "    <tr>\n",
              "      <th>2</th>\n",
              "      <td>3</td>\n",
              "      <td>0</td>\n",
              "      <td>bihday your majesty</td>\n",
              "    </tr>\n",
              "    <tr>\n",
              "      <th>3</th>\n",
              "      <td>4</td>\n",
              "      <td>0</td>\n",
              "      <td>#model   i love u take with u all the time in ...</td>\n",
              "    </tr>\n",
              "    <tr>\n",
              "      <th>4</th>\n",
              "      <td>5</td>\n",
              "      <td>0</td>\n",
              "      <td>factsguide: society now    #motivation</td>\n",
              "    </tr>\n",
              "  </tbody>\n",
              "</table>\n",
              "</div>"
            ],
            "text/plain": [
              "   id  label                                              tweet\n",
              "0   1      0   @user when a father is dysfunctional and is s...\n",
              "1   2      0  @user @user thanks for #lyft credit i can't us...\n",
              "2   3      0                                bihday your majesty\n",
              "3   4      0  #model   i love u take with u all the time in ...\n",
              "4   5      0             factsguide: society now    #motivation"
            ]
          },
          "metadata": {
            "tags": []
          },
          "execution_count": 2
        }
      ]
    },
    {
      "cell_type": "code",
      "metadata": {
        "id": "QfMCYNnDyRfn",
        "colab_type": "code",
        "outputId": "b91a5b51-f86f-46c4-b937-7af00afb1d9b",
        "colab": {
          "base_uri": "https://localhost:8080/",
          "height": 404
        }
      },
      "source": [
        "sns.pairplot(train)"
      ],
      "execution_count": 3,
      "outputs": [
        {
          "output_type": "execute_result",
          "data": {
            "text/plain": [
              "<seaborn.axisgrid.PairGrid at 0x7f8390608cc0>"
            ]
          },
          "metadata": {
            "tags": []
          },
          "execution_count": 3
        },
        {
          "output_type": "display_data",
          "data": {
            "image/png": "[encoded data removed]",
            "text/plain": [
              "<Figure size 360x360 with 6 Axes>"
            ]
          },
          "metadata": {
            "tags": []
          }
        }
      ]
    },
    {
      "cell_type": "code",
      "metadata": {
        "id": "3opdy7I4yvfa",
        "colab_type": "code",
        "colab": {}
      },
      "source": [
        "train_label=train['label']\n",
        "train_data=train['tweet']\n",
        "test_data=test['tweet']"
      ],
      "execution_count": 0,
      "outputs": []
    },
    {
      "cell_type": "code",
      "metadata": {
        "id": "Z8jjbeOfzazm",
        "colab_type": "code",
        "colab": {}
      },
      "source": [
        "def clean_up(text):\n",
        "    text = re.sub('\\d+','',text)\n",
        "    text = re.sub(r'[^\\w\\s]','',text)\n",
        "    text = text.encode('ascii', 'ignore').decode('ascii')\n",
        "    return text\n",
        "\n",
        "total_data = train_data.append(test_data)\n",
        "total_data = total_data.apply(clean_up)"
      ],
      "execution_count": 0,
      "outputs": []
    },
    {
      "cell_type": "code",
      "metadata": {
        "id": "rdaXNjXXzKsf",
        "colab_type": "code",
        "outputId": "9a855ac7-2d03-42c2-df30-1ff3a6a70958",
        "colab": {
          "base_uri": "https://localhost:8080/",
          "height": 86
        }
      },
      "source": [
        "train.groupby('label')['label'].count()"
      ],
      "execution_count": 6,
      "outputs": [
        {
          "output_type": "execute_result",
          "data": {
            "text/plain": [
              "label\n",
              "0    29720\n",
              "1     2242\n",
              "Name: label, dtype: int64"
            ]
          },
          "metadata": {
            "tags": []
          },
          "execution_count": 6
        }
      ]
    },
    {
      "cell_type": "code",
      "metadata": {
        "id": "gE4mIYJf0Zsz",
        "colab_type": "code",
        "outputId": "10182650-757b-4cd4-fe82-fd294177cba4",
        "colab": {
          "base_uri": "https://localhost:8080/",
          "height": 52
        }
      },
      "source": [
        "print('The shape of train is {}'.format(train_data.shape))\n",
        "print('The shape of holdout test is {}'.format(test_data.shape))"
      ],
      "execution_count": 7,
      "outputs": [
        {
          "output_type": "stream",
          "text": [
            "The shape of train is (31962,)\n",
            "The shape of holdout test is (17197,)\n"
          ],
          "name": "stdout"
        }
      ]
    },
    {
      "cell_type": "code",
      "metadata": {
        "id": "S1rWpdfO0j1V",
        "colab_type": "code",
        "colab": {}
      },
      "source": [
        "max_features=2000\n",
        "word_ind=dict()"
      ],
      "execution_count": 0,
      "outputs": []
    },
    {
      "cell_type": "code",
      "metadata": {
        "id": "KtaRUVuG07cL",
        "colab_type": "code",
        "colab": {}
      },
      "source": [
        "def tokenize(word):\n",
        "  tokenizer=Tokenizer(num_words=2000,split=' ')\n",
        "  tokenizer.fit_on_texts(word.values)\n",
        "  word_ind=tokenizer.word_index\n",
        "  sequences=tokenizer.texts_to_sequences(word.values)\n",
        "  padded=pad_sequences(sequences,truncating='post')\n",
        "  return padded"
      ],
      "execution_count": 0,
      "outputs": []
    },
    {
      "cell_type": "code",
      "metadata": {
        "id": "xNnuXxsk2zsg",
        "colab_type": "code",
        "outputId": "738f2149-8906-4f8b-a597-931a976c0e9a",
        "colab": {
          "base_uri": "https://localhost:8080/",
          "height": 121
        }
      },
      "source": [
        "total_data = tokenize(total_data)\n",
        "x_train = total_data[:train_data.shape[0]]\n",
        "holdout_test = total_data[x_train.shape[0]:]\n",
        "print(train.groupby('label')['label'].count())\n",
        "print('The shape of train is {}'.format(x_train.shape))\n",
        "print('The shape of holdout test is {}'.format(test_data.shape))"
      ],
      "execution_count": 10,
      "outputs": [
        {
          "output_type": "stream",
          "text": [
            "label\n",
            "0    29720\n",
            "1     2242\n",
            "Name: label, dtype: int64\n",
            "The shape of train is (31962, 31)\n",
            "The shape of holdout test is (17197,)\n"
          ],
          "name": "stdout"
        }
      ]
    },
    {
      "cell_type": "code",
      "metadata": {
        "id": "9rIARTQf3Ove",
        "colab_type": "code",
        "colab": {}
      },
      "source": [
        "model=tf.keras.Sequential([\n",
        "                           Embedding(input_dim=max_features,output_dim=128,input_length=x_train.shape[1]),\n",
        "                           tf.keras.layers.Bidirectional(LSTM(64,dropout=0.2,return_sequences=True)),\n",
        "tf.keras.layers.Dense(64,activation='relu'),\n",
        "tf.keras.layers.Dense(1,activation='sigmoid')\n",
        "])"
      ],
      "execution_count": 0,
      "outputs": []
    },
    {
      "cell_type": "code",
      "metadata": {
        "id": "Bw-n47I06vrA",
        "colab_type": "code",
        "colab": {}
      },
      "source": [
        "model.compile(loss='binary_crossentropy',\n",
        "    optimizer='adam',\n",
        "  metrics=['accuarcy']\n",
        ")"
      ],
      "execution_count": 0,
      "outputs": []
    },
    {
      "cell_type": "code",
      "metadata": {
        "id": "djXp9RzL7GkX",
        "colab_type": "code",
        "colab": {}
      },
      "source": [
        "x_train,x_test,y_train,y_test=train_test_split(x_train,train_label,test_size=0.2,random_state=5)"
      ],
      "execution_count": 0,
      "outputs": []
    },
    {
      "cell_type": "code",
      "metadata": {
        "id": "xvaj8U-_6-1P",
        "colab_type": "code",
        "colab": {
          "base_uri": "https://localhost:8080/",
          "height": 294
        },
        "outputId": "d7a106ed-9cb2-4995-e24e-896c4a3d179d"
      },
      "source": [
        "history=model.fit(x_train, y_train, epochs = 8, verbose = 1,\n",
        "         validation_data = (x_test,y_test))"
      ],
      "execution_count": 14,
      "outputs": [
        {
          "output_type": "stream",
          "text": [
            "Epoch 1/8\n",
            "800/800 [==============================] - 41s 51ms/step - loss: 0.1815 - accuracy: 0.9433 - val_loss: 0.1527 - val_accuracy: 0.9492\n",
            "Epoch 2/8\n",
            "800/800 [==============================] - 40s 49ms/step - loss: 0.1232 - accuracy: 0.9566 - val_loss: 0.1461 - val_accuracy: 0.9520\n",
            "Epoch 3/8\n",
            "800/800 [==============================] - 40s 50ms/step - loss: 0.1040 - accuracy: 0.9620 - val_loss: 0.1416 - val_accuracy: 0.9517\n",
            "Epoch 4/8\n",
            "800/800 [==============================] - 39s 49ms/step - loss: 0.0927 - accuracy: 0.9649 - val_loss: 0.1509 - val_accuracy: 0.9531\n",
            "Epoch 5/8\n",
            "800/800 [==============================] - 39s 49ms/step - loss: 0.0835 - accuracy: 0.9682 - val_loss: 0.1566 - val_accuracy: 0.9515\n",
            "Epoch 6/8\n",
            "800/800 [==============================] - 39s 49ms/step - loss: 0.0739 - accuracy: 0.9707 - val_loss: 0.1789 - val_accuracy: 0.9527\n",
            "Epoch 7/8\n",
            "800/800 [==============================] - 39s 49ms/step - loss: 0.0667 - accuracy: 0.9737 - val_loss: 0.1812 - val_accuracy: 0.9513\n",
            "Epoch 8/8\n",
            "800/800 [==============================] - 39s 49ms/step - loss: 0.0596 - accuracy: 0.9759 - val_loss: 0.2021 - val_accuracy: 0.9494\n"
          ],
          "name": "stdout"
        }
      ]
    }
  ]
}