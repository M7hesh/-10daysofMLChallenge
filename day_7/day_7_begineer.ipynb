{
  "nbformat": 4,
  "nbformat_minor": 0,
  "metadata": {
    "colab": {
      "name": "day_7_begineer.ipynb",
      "provenance": []
    },
    "kernelspec": {
      "name": "python3",
      "display_name": "Python 3"
    },
    "accelerator": "GPU"
  },
  "cells": [
    {
      "cell_type": "code",
      "metadata": {
        "id": "Ua4xVGZMmcfP",
        "colab_type": "code",
        "colab": {}
      },
      "source": [
        "import tensorflow as tf\n",
        "import pandas as pd\n",
        "import sklearn\n",
        "import numpy as np\n",
        "import matplotlib.pyplot as plt\n",
        "import seaborn as sns\n",
        "from tensorflow.keras.preprocessing.text import Tokenizer\n",
        "from tensorflow.keras.preprocessing.sequence import pad_sequences"
      ],
      "execution_count": 0,
      "outputs": []
    },
    {
      "cell_type": "code",
      "metadata": {
        "id": "Tus3QhvOm34I",
        "colab_type": "code",
        "colab": {}
      },
      "source": [
        "import tensorflow_datasets as tfds"
      ],
      "execution_count": 0,
      "outputs": []
    },
    {
      "cell_type": "code",
      "metadata": {
        "id": "dQq5g79Um7CG",
        "colab_type": "code",
        "colab": {}
      },
      "source": [
        "dataset, info = tfds.load('imdb_reviews/subwords8k', with_info=True, as_supervised=True)\n",
        "train_dataset, test_dataset = dataset['train'], dataset['test']"
      ],
      "execution_count": 0,
      "outputs": []
    },
    {
      "cell_type": "code",
      "metadata": {
        "id": "R8HtdMYhn6sA",
        "colab_type": "code",
        "colab": {}
      },
      "source": [
        "training_data=[]\n",
        "train_label=[]\n",
        "\n",
        "test_data=[]\n",
        "test_label=[]\n",
        "\n",
        "for r,j in train_dataset:\n",
        "  training_data.append(str(r.numpy()))\n",
        "  train_label.append(j.numpy())\n",
        "\n",
        "for r,j in test_dataset:\n",
        "  test_data.append(str(r.numpy()))\n",
        "  test_label.append(j.numpy())\n",
        "\n",
        "training_label=np.array(train_label)\n",
        "test_label=np.array(test_label)"
      ],
      "execution_count": 0,
      "outputs": []
    },
    {
      "cell_type": "code",
      "metadata": {
        "id": "AglB16-QoqZd",
        "colab_type": "code",
        "colab": {}
      },
      "source": [
        "vocab_Size=10000\n",
        "embeeding_dim=16\n",
        "max_length=120\n",
        "trunk_type='post'\n",
        "oov_tok='<OOV>'\n",
        "num_epoch=10"
      ],
      "execution_count": 0,
      "outputs": []
    },
    {
      "cell_type": "code",
      "metadata": {
        "id": "XFBr-JcKojyX",
        "colab_type": "code",
        "colab": {}
      },
      "source": [
        "tokenizer=Tokenizer(num_words=vocab_Size,oov_token=oov_tok)\n",
        "tokenizer.fit_on_texts(training_data)\n",
        "word_index=tokenizer.word_index\n",
        "sequences=tokenizer.texts_to_sequences(training_data)\n",
        "padded=pad_sequences(sequences,maxlen=120,truncating=trunk_type)"
      ],
      "execution_count": 0,
      "outputs": []
    },
    {
      "cell_type": "code",
      "metadata": {
        "id": "O5O-_XKXqtki",
        "colab_type": "code",
        "colab": {}
      },
      "source": [
        "testing_sequences = tokenizer.texts_to_sequences(test_data)\n",
        "testing_padded = pad_sequences(testing_sequences,maxlen=max_length)"
      ],
      "execution_count": 0,
      "outputs": []
    },
    {
      "cell_type": "code",
      "metadata": {
        "id": "JBRUlzBdq03k",
        "colab_type": "code",
        "colab": {}
      },
      "source": [
        "def plot_graphs(history, string):\n",
        "  plt.plot(history.history[string])\n",
        "  plt.plot(history.history['val_'+string])\n",
        "  plt.xlabel(\"Epochs\")\n",
        "  plt.ylabel(string)\n",
        "  plt.legend([string, 'val_'+string])\n",
        "  plt.show()"
      ],
      "execution_count": 0,
      "outputs": []
    },
    {
      "cell_type": "code",
      "metadata": {
        "id": "2cq0AJ5kq_Xy",
        "colab_type": "code",
        "colab": {}
      },
      "source": [
        "model=tf.keras.Sequential([\n",
        "         tf.keras.layers.Embedding(vocab_Size,embeeding_dim,input_length=max_length),\n",
        "        tf.keras.layers.Bidirectional(tf.keras.layers.LSTM(32,return_sequences=True)),\n",
        "        tf.keras.layers.Dropout(0.5),\n",
        "        tf.keras.layers.Bidirectional(tf.keras.layers.GRU(16)),\n",
        "        tf.keras.layers.Dropout(0.5),\n",
        "        tf.keras.layers.Dense(64,activation='relu'),\n",
        "        tf.keras.layers.Dropout(0.5),\n",
        "        tf.keras.layers.Dense(1,activation='sigmoid')\n",
        "])"
      ],
      "execution_count": 0,
      "outputs": []
    },
    {
      "cell_type": "code",
      "metadata": {
        "id": "Kb3F3fldsUro",
        "colab_type": "code",
        "colab": {}
      },
      "source": [
        "model.compile(loss='binary_crossentropy',\n",
        "    optimizer='adam',\n",
        "    metrics=['accuracy']\n",
        ")"
      ],
      "execution_count": 0,
      "outputs": []
    },
    {
      "cell_type": "code",
      "metadata": {
        "id": "dx8z-Kn2voDG",
        "colab_type": "code",
        "colab": {}
      },
      "source": [
        "callbacks=tf.keras.callbacks.EarlyStopping(monitor='val_loss',patience=3,restore_best_weights=True)"
      ],
      "execution_count": 0,
      "outputs": []
    },
    {
      "cell_type": "code",
      "metadata": {
        "id": "iPbgGt5IstvI",
        "colab_type": "code",
        "colab": {
          "base_uri": "https://localhost:8080/",
          "height": 190
        },
        "outputId": "f4d5eddc-00a2-4f17-cbfb-b0f6c482eb82"
      },
      "source": [
        "history=model.fit(padded,training_label,epochs=num_epoch,callbacks=[callbacks],validation_data=(testing_padded, test_label))"
      ],
      "execution_count": 18,
      "outputs": [
        {
          "output_type": "stream",
          "text": [
            "Epoch 1/10\n",
            "782/782 [==============================] - 104s 133ms/step - loss: 0.5987 - accuracy: 0.6503 - val_loss: 0.4494 - val_accuracy: 0.7858\n",
            "Epoch 2/10\n",
            "782/782 [==============================] - 103s 131ms/step - loss: 0.3962 - accuracy: 0.8328 - val_loss: 0.4332 - val_accuracy: 0.7982\n",
            "Epoch 3/10\n",
            "782/782 [==============================] - 103s 132ms/step - loss: 0.3172 - accuracy: 0.8744 - val_loss: 0.4387 - val_accuracy: 0.8009\n",
            "Epoch 4/10\n",
            "782/782 [==============================] - 103s 131ms/step - loss: 0.2409 - accuracy: 0.9089 - val_loss: 0.5646 - val_accuracy: 0.7818\n",
            "Epoch 5/10\n",
            "782/782 [==============================] - 103s 132ms/step - loss: 0.1671 - accuracy: 0.9412 - val_loss: 0.6332 - val_accuracy: 0.7866\n"
          ],
          "name": "stdout"
        }
      ]
    },
    {
      "cell_type": "code",
      "metadata": {
        "id": "6mdP0qIbtitx",
        "colab_type": "code",
        "colab": {
          "base_uri": "https://localhost:8080/",
          "height": 541
        },
        "outputId": "5fee2056-7ee2-4b45-bbb8-e133ef19e4ca"
      },
      "source": [
        "plot_graphs(history, 'accuracy')\n",
        "plot_graphs(history, 'loss')"
      ],
      "execution_count": 19,
      "outputs": [
        {
          "output_type": "display_data",
          "data": {
            "image/png": "[encoded data removed]",
            "text/plain": [
              "<Figure size 432x288 with 1 Axes>"
            ]
          },
          "metadata": {
            "tags": []
          }
        },
        {
          "output_type": "display_data",
          "data": {
            "image/png": "[encoded data removed]",
            "text/plain": [
              "<Figure size 432x288 with 1 Axes>"
            ]
          },
          "metadata": {
            "tags": []
          }
        }
      ]
    },
    {
      "cell_type": "code",
      "metadata": {
        "id": "_3y-hUSTuvzf",
        "colab_type": "code",
        "colab": {}
      },
      "source": [
        "import io\n",
        "vocab_size = 8080\n",
        "word_index = tokenizer.word_index\n",
        "\n",
        "reverse_word_index = dict([(value, key) for (key, value) in word_index.items()])\n",
        "e = model.layers[0]\n",
        "weights = e.get_weights()[0]\n",
        "\n",
        "\n",
        "out_v = io.open('vecs.tsv', 'w', encoding='utf-8')\n",
        "out_m = io.open('meta.tsv', 'w', encoding='utf-8')\n",
        "for word_num in range(1, vocab_size):\n",
        "  word = reverse_word_index[word_num]\n",
        "  embeddings = weights[word_num]\n",
        "  out_m.write(word + \"\\n\")\n",
        "  out_v.write('\\t'.join([str(x) for x in embeddings]) + \"\\n\")\n",
        "out_v.close()\n",
        "out_m.close()"
      ],
      "execution_count": 0,
      "outputs": []
    }
  ]
}