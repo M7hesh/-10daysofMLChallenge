{
  "nbformat": 4,
  "nbformat_minor": 0,
  "metadata": {
    "colab": {
      "name": "day_6_try.ipynb",
      "provenance": []
    },
    "kernelspec": {
      "name": "python3",
      "display_name": "Python 3"
    },
    "accelerator": "GPU"
  },
  "cells": [
    {
      "cell_type": "code",
      "metadata": {
        "id": "1WPnANdiO6pZ",
        "colab_type": "code",
        "colab": {}
      },
      "source": [
        "try:\n",
        "  %tensorflow_version 2.x\n",
        "except:\n",
        "  pass"
      ],
      "execution_count": 0,
      "outputs": []
    },
    {
      "cell_type": "code",
      "metadata": {
        "id": "YUx1jjMwObjL",
        "colab_type": "code",
        "colab": {}
      },
      "source": [
        "import tensorflow as tf\n",
        "from tensorflow import keras\n",
        "import glob"
      ],
      "execution_count": 0,
      "outputs": []
    },
    {
      "cell_type": "code",
      "metadata": {
        "id": "eZdFjCu9VqBz",
        "colab_type": "code",
        "colab": {}
      },
      "source": [
        "from tensorflow.keras.models import Sequential\n",
        "from tensorflow.keras.layers import Dense, Conv2D, Flatten, Dropout, MaxPooling2D,Conv1D\n",
        "from tensorflow.keras.preprocessing.image import ImageDataGenerator\n",
        "from tensorflow.keras.utils import to_categorical \n",
        "import os\n",
        "import numpy as np\n",
        "import matplotlib.pyplot as plt\n",
        "AUTOTUNE = tf.data.experimental.AUTOTUNE"
      ],
      "execution_count": 0,
      "outputs": []
    },
    {
      "cell_type": "code",
      "metadata": {
        "id": "yl_n0jwxO2R4",
        "colab_type": "code",
        "outputId": "145bb78a-34b2-437e-b6fe-be03a334155a",
        "colab": {
          "base_uri": "https://localhost:8080/",
          "height": 34
        }
      },
      "source": [
        "tf.__version__"
      ],
      "execution_count": 4,
      "outputs": [
        {
          "output_type": "execute_result",
          "data": {
            "text/plain": [
              "'2.2.0-rc1'"
            ]
          },
          "metadata": {
            "tags": []
          },
          "execution_count": 4
        }
      ]
    },
    {
      "cell_type": "code",
      "metadata": {
        "id": "eu5SzFZofO1q",
        "colab_type": "code",
        "colab": {}
      },
      "source": [
        "import tensorflow_datasets as tfds"
      ],
      "execution_count": 0,
      "outputs": []
    },
    {
      "cell_type": "code",
      "metadata": {
        "id": "5PNZfeuwVdno",
        "colab_type": "code",
        "colab": {
          "base_uri": "https://localhost:8080/",
          "height": 34
        },
        "outputId": "a31c9384-3c20-4b8a-cedf-cc5ab4fd5f36"
      },
      "source": [
        "from keras.datasets import fashion_mnist\n",
        "(train_Data,train_label),(test_data,test_label)=fashion_mnist.load_data()"
      ],
      "execution_count": 6,
      "outputs": [
        {
          "output_type": "stream",
          "text": [
            "Using TensorFlow backend.\n"
          ],
          "name": "stderr"
        }
      ]
    },
    {
      "cell_type": "code",
      "metadata": {
        "id": "fezLd7M0kQAJ",
        "colab_type": "code",
        "colab": {}
      },
      "source": [
        "num_train_examples=len(train_Data)"
      ],
      "execution_count": 0,
      "outputs": []
    },
    {
      "cell_type": "code",
      "metadata": {
        "id": "uOT9GSgwjbJe",
        "colab_type": "code",
        "colab": {}
      },
      "source": [
        "train_dataset = tf.data.Dataset.from_tensor_slices((train_Data, train_label))\n",
        "test_dataset = tf.data.Dataset.from_tensor_slices((test_data,test_label))"
      ],
      "execution_count": 0,
      "outputs": []
    },
    {
      "cell_type": "code",
      "metadata": {
        "id": "t1NaHDs8sMPu",
        "colab_type": "code",
        "colab": {}
      },
      "source": [
        "train_image_generator = ImageDataGenerator(\n",
        "    rescale=1./255,\n",
        "        shear_range=0.2,\n",
        "        zoom_range=0.2,\n",
        "        horizontal_flip=True,\n",
        "        rotation_range=45,\n",
        "        width_shift_range=0.1,\n",
        "        height_shift_range=0.1,\n",
        "        fill_mode='nearest'\n",
        "        ) \n",
        "validation_image_generator = ImageDataGenerator(rescale=1./255)"
      ],
      "execution_count": 0,
      "outputs": []
    },
    {
      "cell_type": "code",
      "metadata": {
        "id": "1xF3p7TmCods",
        "colab_type": "code",
        "colab": {}
      },
      "source": [
        "model=tf.keras.Sequential([\n",
        "            Flatten(input_shape=(28,28,1)),\n",
        "            Dense(64,activation='relu'),\n",
        "            Dropout(0.2),\n",
        "            Dense(256,activation='relu'),\n",
        "            Dense(128,activation='relu'),\n",
        "            Dropout(0.15),\n",
        "            \n",
        "            Dense(10)          \n",
        "  ])\n",
        "model.compile(optimizer = 'adam',\n",
        "                  loss=tf.losses.SparseCategoricalCrossentropy(from_logits=True),\n",
        "                  metrics=['accuracy'])"
      ],
      "execution_count": 0,
      "outputs": []
    },
    {
      "cell_type": "code",
      "metadata": {
        "id": "vyrc6Z_nnVli",
        "colab_type": "code",
        "outputId": "9ecf2a13-20d5-4971-d8f9-e5e4083930dc",
        "colab": {
          "base_uri": "https://localhost:8080/",
          "height": 398
        }
      },
      "source": [
        "model.summary()"
      ],
      "execution_count": 11,
      "outputs": [
        {
          "output_type": "stream",
          "text": [
            "Model: \"sequential\"\n",
            "_________________________________________________________________\n",
            "Layer (type)                 Output Shape              Param #   \n",
            "=================================================================\n",
            "flatten (Flatten)            (None, 784)               0         \n",
            "_________________________________________________________________\n",
            "dense (Dense)                (None, 64)                50240     \n",
            "_________________________________________________________________\n",
            "dropout (Dropout)            (None, 64)                0         \n",
            "_________________________________________________________________\n",
            "dense_1 (Dense)              (None, 256)               16640     \n",
            "_________________________________________________________________\n",
            "dense_2 (Dense)              (None, 128)               32896     \n",
            "_________________________________________________________________\n",
            "dropout_1 (Dropout)          (None, 128)               0         \n",
            "_________________________________________________________________\n",
            "dense_3 (Dense)              (None, 10)                1290      \n",
            "=================================================================\n",
            "Total params: 101,066\n",
            "Trainable params: 101,066\n",
            "Non-trainable params: 0\n",
            "_________________________________________________________________\n"
          ],
          "name": "stdout"
        }
      ]
    },
    {
      "cell_type": "code",
      "metadata": {
        "id": "16sDbRW5r1pc",
        "colab_type": "code",
        "colab": {}
      },
      "source": [
        "train_Data=train_Data.reshape(60000,28,28,1)\n",
        "test_data=test_data.reshape(10000,28,28,1)"
      ],
      "execution_count": 0,
      "outputs": []
    },
    {
      "cell_type": "code",
      "metadata": {
        "id": "bLusSvdVrdEI",
        "colab_type": "code",
        "colab": {}
      },
      "source": [
        "train_data_gen=train_image_generator.flow(train_Data,train_label)"
      ],
      "execution_count": 0,
      "outputs": []
    },
    {
      "cell_type": "code",
      "metadata": {
        "id": "ABRhHDQNuGIL",
        "colab_type": "code",
        "colab": {}
      },
      "source": [
        "vali_data_gen=validation_image_generator.flow(test_data,test_label)"
      ],
      "execution_count": 0,
      "outputs": []
    },
    {
      "cell_type": "code",
      "metadata": {
        "id": "uVpiB3WIlPu1",
        "colab_type": "code",
        "outputId": "ff4406f4-2fbe-4ac9-e283-8672807da157",
        "colab": {
          "base_uri": "https://localhost:8080/",
          "height": 1000
        }
      },
      "source": [
        "history=model.fit(train_data_gen,steps_per_epoch=100,epochs=100,validation_data=vali_data_gen,validation_steps=10)"
      ],
      "execution_count": 15,
      "outputs": [
        {
          "output_type": "stream",
          "text": [
            "Epoch 1/100\n",
            "100/100 [==============================] - 1s 11ms/step - loss: 1.8765 - accuracy: 0.2972 - val_loss: 1.2522 - val_accuracy: 0.5250\n",
            "Epoch 2/100\n",
            "100/100 [==============================] - 1s 10ms/step - loss: 1.5126 - accuracy: 0.4347 - val_loss: 1.0958 - val_accuracy: 0.5969\n",
            "Epoch 3/100\n",
            "100/100 [==============================] - 1s 10ms/step - loss: 1.4256 - accuracy: 0.4594 - val_loss: 1.0956 - val_accuracy: 0.5906\n",
            "Epoch 4/100\n",
            "100/100 [==============================] - 1s 10ms/step - loss: 1.3236 - accuracy: 0.5028 - val_loss: 0.8621 - val_accuracy: 0.7094\n",
            "Epoch 5/100\n",
            "100/100 [==============================] - 1s 10ms/step - loss: 1.3005 - accuracy: 0.5134 - val_loss: 0.9313 - val_accuracy: 0.6781\n",
            "Epoch 6/100\n",
            "100/100 [==============================] - 1s 10ms/step - loss: 1.2466 - accuracy: 0.5428 - val_loss: 0.8526 - val_accuracy: 0.7156\n",
            "Epoch 7/100\n",
            "100/100 [==============================] - 1s 10ms/step - loss: 1.2125 - accuracy: 0.5534 - val_loss: 0.8373 - val_accuracy: 0.6844\n",
            "Epoch 8/100\n",
            "100/100 [==============================] - 1s 9ms/step - loss: 1.1740 - accuracy: 0.5728 - val_loss: 0.7471 - val_accuracy: 0.7250\n",
            "Epoch 9/100\n",
            "100/100 [==============================] - 1s 10ms/step - loss: 1.1655 - accuracy: 0.5681 - val_loss: 0.7777 - val_accuracy: 0.7125\n",
            "Epoch 10/100\n",
            "100/100 [==============================] - 1s 10ms/step - loss: 1.1435 - accuracy: 0.5725 - val_loss: 0.8111 - val_accuracy: 0.6719\n",
            "Epoch 11/100\n",
            "100/100 [==============================] - 1s 10ms/step - loss: 1.1091 - accuracy: 0.5794 - val_loss: 0.8002 - val_accuracy: 0.7156\n",
            "Epoch 12/100\n",
            "100/100 [==============================] - 1s 10ms/step - loss: 1.1439 - accuracy: 0.5709 - val_loss: 0.7689 - val_accuracy: 0.7188\n",
            "Epoch 13/100\n",
            "100/100 [==============================] - 1s 10ms/step - loss: 1.1407 - accuracy: 0.5850 - val_loss: 0.7609 - val_accuracy: 0.6875\n",
            "Epoch 14/100\n",
            "100/100 [==============================] - 1s 10ms/step - loss: 1.1197 - accuracy: 0.5794 - val_loss: 0.9144 - val_accuracy: 0.6656\n",
            "Epoch 15/100\n",
            "100/100 [==============================] - 1s 10ms/step - loss: 1.0820 - accuracy: 0.5903 - val_loss: 0.7517 - val_accuracy: 0.7188\n",
            "Epoch 16/100\n",
            "100/100 [==============================] - 1s 10ms/step - loss: 1.0539 - accuracy: 0.6087 - val_loss: 0.8432 - val_accuracy: 0.6969\n",
            "Epoch 17/100\n",
            "100/100 [==============================] - 1s 10ms/step - loss: 1.0692 - accuracy: 0.6003 - val_loss: 0.7775 - val_accuracy: 0.7063\n",
            "Epoch 18/100\n",
            "100/100 [==============================] - 1s 9ms/step - loss: 1.0396 - accuracy: 0.6050 - val_loss: 0.7925 - val_accuracy: 0.6875\n",
            "Epoch 19/100\n",
            "100/100 [==============================] - 1s 10ms/step - loss: 1.0476 - accuracy: 0.6025 - val_loss: 0.7864 - val_accuracy: 0.7094\n",
            "Epoch 20/100\n",
            "100/100 [==============================] - 1s 11ms/step - loss: 1.0537 - accuracy: 0.6094 - val_loss: 0.7693 - val_accuracy: 0.6969\n",
            "Epoch 21/100\n",
            "100/100 [==============================] - 1s 10ms/step - loss: 1.0702 - accuracy: 0.5972 - val_loss: 0.7557 - val_accuracy: 0.7094\n",
            "Epoch 22/100\n",
            "100/100 [==============================] - 1s 10ms/step - loss: 1.0384 - accuracy: 0.6228 - val_loss: 0.7520 - val_accuracy: 0.7094\n",
            "Epoch 23/100\n",
            "100/100 [==============================] - 1s 10ms/step - loss: 1.0274 - accuracy: 0.6222 - val_loss: 0.8341 - val_accuracy: 0.6656\n",
            "Epoch 24/100\n",
            "100/100 [==============================] - 1s 10ms/step - loss: 1.0206 - accuracy: 0.6119 - val_loss: 0.7499 - val_accuracy: 0.6938\n",
            "Epoch 25/100\n",
            "100/100 [==============================] - 1s 10ms/step - loss: 1.0051 - accuracy: 0.6122 - val_loss: 0.7976 - val_accuracy: 0.6531\n",
            "Epoch 26/100\n",
            "100/100 [==============================] - 1s 10ms/step - loss: 1.0413 - accuracy: 0.6106 - val_loss: 0.8857 - val_accuracy: 0.6531\n",
            "Epoch 27/100\n",
            "100/100 [==============================] - 1s 10ms/step - loss: 1.0274 - accuracy: 0.6091 - val_loss: 0.7675 - val_accuracy: 0.7000\n",
            "Epoch 28/100\n",
            "100/100 [==============================] - 1s 10ms/step - loss: 1.0446 - accuracy: 0.5997 - val_loss: 0.8332 - val_accuracy: 0.6406\n",
            "Epoch 29/100\n",
            "100/100 [==============================] - 1s 10ms/step - loss: 1.0212 - accuracy: 0.6175 - val_loss: 0.7881 - val_accuracy: 0.6776\n",
            "Epoch 30/100\n",
            "100/100 [==============================] - 1s 10ms/step - loss: 0.9997 - accuracy: 0.6275 - val_loss: 0.7661 - val_accuracy: 0.7250\n",
            "Epoch 31/100\n",
            "100/100 [==============================] - 1s 10ms/step - loss: 0.9938 - accuracy: 0.6281 - val_loss: 0.7109 - val_accuracy: 0.7219\n",
            "Epoch 32/100\n",
            "100/100 [==============================] - 1s 10ms/step - loss: 1.0192 - accuracy: 0.6200 - val_loss: 0.8101 - val_accuracy: 0.6594\n",
            "Epoch 33/100\n",
            "100/100 [==============================] - 1s 10ms/step - loss: 0.9640 - accuracy: 0.6306 - val_loss: 0.7542 - val_accuracy: 0.6719\n",
            "Epoch 34/100\n",
            "100/100 [==============================] - 1s 10ms/step - loss: 1.0145 - accuracy: 0.6203 - val_loss: 0.7143 - val_accuracy: 0.7063\n",
            "Epoch 35/100\n",
            "100/100 [==============================] - 1s 10ms/step - loss: 1.0173 - accuracy: 0.6341 - val_loss: 0.8231 - val_accuracy: 0.6938\n",
            "Epoch 36/100\n",
            "100/100 [==============================] - 1s 10ms/step - loss: 1.0003 - accuracy: 0.6225 - val_loss: 0.8083 - val_accuracy: 0.6969\n",
            "Epoch 37/100\n",
            "100/100 [==============================] - 1s 10ms/step - loss: 1.0187 - accuracy: 0.6169 - val_loss: 0.7946 - val_accuracy: 0.7188\n",
            "Epoch 38/100\n",
            "100/100 [==============================] - 1s 10ms/step - loss: 0.9837 - accuracy: 0.6309 - val_loss: 0.7284 - val_accuracy: 0.7156\n",
            "Epoch 39/100\n",
            "100/100 [==============================] - 1s 10ms/step - loss: 0.9718 - accuracy: 0.6316 - val_loss: 0.7839 - val_accuracy: 0.6406\n",
            "Epoch 40/100\n",
            "100/100 [==============================] - 1s 10ms/step - loss: 0.9861 - accuracy: 0.6206 - val_loss: 0.8357 - val_accuracy: 0.6844\n",
            "Epoch 41/100\n",
            "100/100 [==============================] - 1s 10ms/step - loss: 0.9909 - accuracy: 0.6322 - val_loss: 0.7501 - val_accuracy: 0.7312\n",
            "Epoch 42/100\n",
            "100/100 [==============================] - 1s 10ms/step - loss: 0.9631 - accuracy: 0.6353 - val_loss: 0.7694 - val_accuracy: 0.6625\n",
            "Epoch 43/100\n",
            "100/100 [==============================] - 1s 10ms/step - loss: 0.9769 - accuracy: 0.6313 - val_loss: 0.6876 - val_accuracy: 0.7469\n",
            "Epoch 44/100\n",
            "100/100 [==============================] - 1s 9ms/step - loss: 0.9804 - accuracy: 0.6341 - val_loss: 0.7282 - val_accuracy: 0.7031\n",
            "Epoch 45/100\n",
            "100/100 [==============================] - 1s 10ms/step - loss: 1.0191 - accuracy: 0.6206 - val_loss: 0.8549 - val_accuracy: 0.6562\n",
            "Epoch 46/100\n",
            "100/100 [==============================] - 1s 10ms/step - loss: 0.9690 - accuracy: 0.6331 - val_loss: 0.6201 - val_accuracy: 0.7500\n",
            "Epoch 47/100\n",
            "100/100 [==============================] - 1s 10ms/step - loss: 0.9691 - accuracy: 0.6347 - val_loss: 0.7174 - val_accuracy: 0.7063\n",
            "Epoch 48/100\n",
            "100/100 [==============================] - 1s 10ms/step - loss: 1.0089 - accuracy: 0.6053 - val_loss: 0.8060 - val_accuracy: 0.7125\n",
            "Epoch 49/100\n",
            "100/100 [==============================] - 1s 10ms/step - loss: 0.9694 - accuracy: 0.6388 - val_loss: 0.8517 - val_accuracy: 0.6438\n",
            "Epoch 50/100\n",
            "100/100 [==============================] - 1s 10ms/step - loss: 0.9489 - accuracy: 0.6438 - val_loss: 0.7014 - val_accuracy: 0.7469\n",
            "Epoch 51/100\n",
            "100/100 [==============================] - 1s 10ms/step - loss: 0.9566 - accuracy: 0.6434 - val_loss: 0.6418 - val_accuracy: 0.7375\n",
            "Epoch 52/100\n",
            "100/100 [==============================] - 1s 10ms/step - loss: 0.9807 - accuracy: 0.6288 - val_loss: 0.6844 - val_accuracy: 0.7469\n",
            "Epoch 53/100\n",
            "100/100 [==============================] - 1s 10ms/step - loss: 0.9827 - accuracy: 0.6378 - val_loss: 0.7220 - val_accuracy: 0.7344\n",
            "Epoch 54/100\n",
            "100/100 [==============================] - 1s 9ms/step - loss: 0.9921 - accuracy: 0.6234 - val_loss: 0.7507 - val_accuracy: 0.7344\n",
            "Epoch 55/100\n",
            "100/100 [==============================] - 1s 10ms/step - loss: 0.9450 - accuracy: 0.6400 - val_loss: 0.6871 - val_accuracy: 0.7125\n",
            "Epoch 56/100\n",
            "100/100 [==============================] - 1s 10ms/step - loss: 0.9478 - accuracy: 0.6356 - val_loss: 0.7511 - val_accuracy: 0.7250\n",
            "Epoch 57/100\n",
            "100/100 [==============================] - 1s 10ms/step - loss: 0.9493 - accuracy: 0.6372 - val_loss: 0.6106 - val_accuracy: 0.7763\n",
            "Epoch 58/100\n",
            "100/100 [==============================] - 1s 10ms/step - loss: 0.9539 - accuracy: 0.6450 - val_loss: 0.7440 - val_accuracy: 0.7031\n",
            "Epoch 59/100\n",
            "100/100 [==============================] - 1s 10ms/step - loss: 0.9766 - accuracy: 0.6306 - val_loss: 0.6805 - val_accuracy: 0.7312\n",
            "Epoch 60/100\n",
            "100/100 [==============================] - 1s 10ms/step - loss: 0.9323 - accuracy: 0.6413 - val_loss: 0.7458 - val_accuracy: 0.7031\n",
            "Epoch 61/100\n",
            "100/100 [==============================] - 1s 10ms/step - loss: 0.9400 - accuracy: 0.6506 - val_loss: 0.6985 - val_accuracy: 0.7375\n",
            "Epoch 62/100\n",
            "100/100 [==============================] - 1s 10ms/step - loss: 0.9520 - accuracy: 0.6431 - val_loss: 0.7261 - val_accuracy: 0.7344\n",
            "Epoch 63/100\n",
            "100/100 [==============================] - 1s 10ms/step - loss: 0.9402 - accuracy: 0.6372 - val_loss: 0.7424 - val_accuracy: 0.7125\n",
            "Epoch 64/100\n",
            "100/100 [==============================] - 1s 10ms/step - loss: 0.9433 - accuracy: 0.6438 - val_loss: 0.7202 - val_accuracy: 0.7281\n",
            "Epoch 65/100\n",
            "100/100 [==============================] - 1s 10ms/step - loss: 0.9303 - accuracy: 0.6447 - val_loss: 0.6817 - val_accuracy: 0.7219\n",
            "Epoch 66/100\n",
            "100/100 [==============================] - 1s 10ms/step - loss: 0.9528 - accuracy: 0.6341 - val_loss: 0.6240 - val_accuracy: 0.7594\n",
            "Epoch 67/100\n",
            "100/100 [==============================] - 1s 10ms/step - loss: 0.9554 - accuracy: 0.6344 - val_loss: 0.7932 - val_accuracy: 0.6875\n",
            "Epoch 68/100\n",
            "100/100 [==============================] - 1s 10ms/step - loss: 0.9198 - accuracy: 0.6509 - val_loss: 0.7586 - val_accuracy: 0.7000\n",
            "Epoch 69/100\n",
            "100/100 [==============================] - 1s 10ms/step - loss: 0.9646 - accuracy: 0.6303 - val_loss: 0.7308 - val_accuracy: 0.6875\n",
            "Epoch 70/100\n",
            "100/100 [==============================] - 1s 10ms/step - loss: 0.9541 - accuracy: 0.6388 - val_loss: 0.6999 - val_accuracy: 0.7437\n",
            "Epoch 71/100\n",
            "100/100 [==============================] - 1s 10ms/step - loss: 0.9434 - accuracy: 0.6384 - val_loss: 0.7317 - val_accuracy: 0.7125\n",
            "Epoch 72/100\n",
            "100/100 [==============================] - 1s 10ms/step - loss: 0.9382 - accuracy: 0.6403 - val_loss: 0.8092 - val_accuracy: 0.6625\n",
            "Epoch 73/100\n",
            "100/100 [==============================] - 1s 10ms/step - loss: 0.9415 - accuracy: 0.6428 - val_loss: 0.7528 - val_accuracy: 0.6781\n",
            "Epoch 74/100\n",
            "100/100 [==============================] - 1s 10ms/step - loss: 0.9811 - accuracy: 0.6141 - val_loss: 0.8101 - val_accuracy: 0.7063\n",
            "Epoch 75/100\n",
            "100/100 [==============================] - 1s 10ms/step - loss: 0.9335 - accuracy: 0.6472 - val_loss: 0.6179 - val_accuracy: 0.7531\n",
            "Epoch 76/100\n",
            "100/100 [==============================] - 1s 10ms/step - loss: 0.9307 - accuracy: 0.6488 - val_loss: 0.7164 - val_accuracy: 0.7312\n",
            "Epoch 77/100\n",
            "100/100 [==============================] - 1s 10ms/step - loss: 0.9571 - accuracy: 0.6428 - val_loss: 0.6880 - val_accuracy: 0.7406\n",
            "Epoch 78/100\n",
            "100/100 [==============================] - 1s 10ms/step - loss: 0.9401 - accuracy: 0.6550 - val_loss: 0.7828 - val_accuracy: 0.7188\n",
            "Epoch 79/100\n",
            "100/100 [==============================] - 1s 10ms/step - loss: 0.9199 - accuracy: 0.6463 - val_loss: 0.7302 - val_accuracy: 0.7125\n",
            "Epoch 80/100\n",
            "100/100 [==============================] - 1s 10ms/step - loss: 0.9042 - accuracy: 0.6494 - val_loss: 0.7134 - val_accuracy: 0.7219\n",
            "Epoch 81/100\n",
            "100/100 [==============================] - 1s 10ms/step - loss: 0.9594 - accuracy: 0.6356 - val_loss: 0.6321 - val_accuracy: 0.7375\n",
            "Epoch 82/100\n",
            "100/100 [==============================] - 1s 10ms/step - loss: 0.9234 - accuracy: 0.6544 - val_loss: 0.6328 - val_accuracy: 0.7844\n",
            "Epoch 83/100\n",
            "100/100 [==============================] - 1s 10ms/step - loss: 0.9561 - accuracy: 0.6419 - val_loss: 0.7564 - val_accuracy: 0.6906\n",
            "Epoch 84/100\n",
            "100/100 [==============================] - 1s 10ms/step - loss: 0.9233 - accuracy: 0.6519 - val_loss: 0.7713 - val_accuracy: 0.6812\n",
            "Epoch 85/100\n",
            "100/100 [==============================] - 1s 10ms/step - loss: 0.9246 - accuracy: 0.6444 - val_loss: 0.7537 - val_accuracy: 0.6969\n",
            "Epoch 86/100\n",
            "100/100 [==============================] - 1s 10ms/step - loss: 0.8975 - accuracy: 0.6587 - val_loss: 0.7040 - val_accuracy: 0.7434\n",
            "Epoch 87/100\n",
            "100/100 [==============================] - 1s 9ms/step - loss: 0.9098 - accuracy: 0.6538 - val_loss: 0.7530 - val_accuracy: 0.7625\n",
            "Epoch 88/100\n",
            "100/100 [==============================] - 1s 10ms/step - loss: 0.9112 - accuracy: 0.6466 - val_loss: 0.7115 - val_accuracy: 0.7219\n",
            "Epoch 89/100\n",
            "100/100 [==============================] - 1s 10ms/step - loss: 0.9230 - accuracy: 0.6522 - val_loss: 0.6402 - val_accuracy: 0.7312\n",
            "Epoch 90/100\n",
            "100/100 [==============================] - 1s 10ms/step - loss: 0.9192 - accuracy: 0.6534 - val_loss: 0.7218 - val_accuracy: 0.7188\n",
            "Epoch 91/100\n",
            "100/100 [==============================] - 1s 10ms/step - loss: 0.9056 - accuracy: 0.6572 - val_loss: 0.7374 - val_accuracy: 0.7344\n",
            "Epoch 92/100\n",
            "100/100 [==============================] - 1s 10ms/step - loss: 0.9305 - accuracy: 0.6441 - val_loss: 0.7316 - val_accuracy: 0.7344\n",
            "Epoch 93/100\n",
            "100/100 [==============================] - 1s 10ms/step - loss: 0.9082 - accuracy: 0.6525 - val_loss: 0.6345 - val_accuracy: 0.7563\n",
            "Epoch 94/100\n",
            "100/100 [==============================] - 1s 10ms/step - loss: 0.9132 - accuracy: 0.6509 - val_loss: 0.7547 - val_accuracy: 0.7312\n",
            "Epoch 95/100\n",
            "100/100 [==============================] - 1s 10ms/step - loss: 0.9139 - accuracy: 0.6547 - val_loss: 0.6608 - val_accuracy: 0.7312\n",
            "Epoch 96/100\n",
            "100/100 [==============================] - 1s 10ms/step - loss: 0.9178 - accuracy: 0.6562 - val_loss: 0.7047 - val_accuracy: 0.7250\n",
            "Epoch 97/100\n",
            "100/100 [==============================] - 1s 10ms/step - loss: 0.9146 - accuracy: 0.6478 - val_loss: 0.7368 - val_accuracy: 0.6812\n",
            "Epoch 98/100\n",
            "100/100 [==============================] - 1s 10ms/step - loss: 0.8917 - accuracy: 0.6481 - val_loss: 0.6862 - val_accuracy: 0.7406\n",
            "Epoch 99/100\n",
            "100/100 [==============================] - 1s 10ms/step - loss: 0.9005 - accuracy: 0.6516 - val_loss: 0.7141 - val_accuracy: 0.7156\n",
            "Epoch 100/100\n",
            "100/100 [==============================] - 1s 10ms/step - loss: 0.8977 - accuracy: 0.6619 - val_loss: 0.7217 - val_accuracy: 0.6875\n"
          ],
          "name": "stdout"
        }
      ]
    },
    {
      "cell_type": "markdown",
      "metadata": {
        "id": "tMM_I_xDCNlM",
        "colab_type": "text"
      },
      "source": [
        "# **training loss vs validation loss with generator class**"
      ]
    },
    {
      "cell_type": "code",
      "metadata": {
        "id": "VCQkTMs8tm0j",
        "colab_type": "code",
        "colab": {
          "base_uri": "https://localhost:8080/",
          "height": 312
        },
        "outputId": "65b939dc-2427-4453-e803-1bc3cb5c83a1"
      },
      "source": [
        "plt.plot(history.history['loss'],'b',label='loss')\n",
        "plt.plot(history.history['val_loss'],'r',label='val_loss')\n",
        "plt.xlabel('epoch')\n",
        "plt.ylabel('loss')\n",
        "plt.title('training loss vs validation loss with generator class')\n",
        "plt.legend()"
      ],
      "execution_count": 16,
      "outputs": [
        {
          "output_type": "execute_result",
          "data": {
            "text/plain": [
              "<matplotlib.legend.Legend at 0x7fcd4b0a32b0>"
            ]
          },
          "metadata": {
            "tags": []
          },
          "execution_count": 16
        },
        {
          "output_type": "display_data",
          "data": {
            "image/png": "[encoded data removed]",
            "text/plain": [
              "<Figure size 432x288 with 1 Axes>"
            ]
          },
          "metadata": {
            "tags": []
          }
        }
      ]
    },
    {
      "cell_type": "code",
      "metadata": {
        "id": "4xcOaj6ptxeJ",
        "colab_type": "code",
        "colab": {
          "base_uri": "https://localhost:8080/",
          "height": 312
        },
        "outputId": "f45d9a8c-9353-48ca-f9c6-2e637c7e28c3"
      },
      "source": [
        "plt.plot(history.history['accuracy'],'b',label='accuracy')\n",
        "plt.plot(history.history['val_accuracy'],'r',label='val_accuracy')\n",
        "plt.xlabel('epoch')\n",
        "plt.ylabel('accuracy')\n",
        "plt.title('training acc vs validation acc with generator class')\n",
        "plt.legend()"
      ],
      "execution_count": 17,
      "outputs": [
        {
          "output_type": "execute_result",
          "data": {
            "text/plain": [
              "<matplotlib.legend.Legend at 0x7fcd4ab7ff28>"
            ]
          },
          "metadata": {
            "tags": []
          },
          "execution_count": 17
        },
        {
          "output_type": "display_data",
          "data": {
            "image/png": "[encoded data removed]",
            "text/plain": [
              "<Figure size 432x288 with 1 Axes>"
            ]
          },
          "metadata": {
            "tags": []
          }
        }
      ]
    },
    {
      "cell_type": "code",
      "metadata": {
        "id": "pj_VEyKt6h4h",
        "colab_type": "code",
        "colab": {}
      },
      "source": [
        "model2=tf.keras.Sequential([\n",
        "            Flatten(input_shape=(28,28,1)),\n",
        "            Dense(64,activation='relu'),\n",
        "            Dropout(0.2),\n",
        "            Dense(256,activation='relu'),\n",
        "            Dense(128,activation='relu'),\n",
        "            Dropout(0.15),\n",
        "            \n",
        "            Dense(10)        \n",
        "  ])\n",
        "model2.compile(optimizer = 'adam',\n",
        "                  loss=tf.losses.SparseCategoricalCrossentropy(from_logits=True),\n",
        "                  metrics=['accuracy'])"
      ],
      "execution_count": 0,
      "outputs": []
    },
    {
      "cell_type": "code",
      "metadata": {
        "id": "4FZ5kRpp6LnD",
        "colab_type": "code",
        "colab": {
          "base_uri": "https://localhost:8080/",
          "height": 1000
        },
        "outputId": "d5e76866-b8b4-4f34-8934-7b1c2b4ca357"
      },
      "source": [
        "history2=model2.fit(x=train_Data,y=train_label,steps_per_epoch=42,epochs=100,validation_data=(test_data,test_label),validation_steps=10)"
      ],
      "execution_count": 20,
      "outputs": [
        {
          "output_type": "stream",
          "text": [
            "Epoch 1/100\n",
            "42/42 [==============================] - 0s 5ms/step - loss: 6.2025 - accuracy: 0.4354 - val_loss: 1.2509 - val_accuracy: 0.6087\n",
            "Epoch 2/100\n",
            "42/42 [==============================] - 0s 4ms/step - loss: 1.2765 - accuracy: 0.6012 - val_loss: 0.9313 - val_accuracy: 0.7197\n",
            "Epoch 3/100\n",
            "42/42 [==============================] - 0s 4ms/step - loss: 1.0116 - accuracy: 0.6585 - val_loss: 0.7412 - val_accuracy: 0.7124\n",
            "Epoch 4/100\n",
            "42/42 [==============================] - 0s 4ms/step - loss: 0.8776 - accuracy: 0.6684 - val_loss: 0.6944 - val_accuracy: 0.7135\n",
            "Epoch 5/100\n",
            "42/42 [==============================] - 0s 4ms/step - loss: 0.8236 - accuracy: 0.6804 - val_loss: 0.6659 - val_accuracy: 0.7170\n",
            "Epoch 6/100\n",
            "42/42 [==============================] - 0s 4ms/step - loss: 0.7894 - accuracy: 0.6862 - val_loss: 0.6487 - val_accuracy: 0.7168\n",
            "Epoch 7/100\n",
            "42/42 [==============================] - 0s 4ms/step - loss: 0.7523 - accuracy: 0.6947 - val_loss: 0.6254 - val_accuracy: 0.7356\n",
            "Epoch 8/100\n",
            "42/42 [==============================] - 0s 4ms/step - loss: 0.7292 - accuracy: 0.7020 - val_loss: 0.6152 - val_accuracy: 0.7385\n",
            "Epoch 9/100\n",
            "42/42 [==============================] - 0s 4ms/step - loss: 0.7099 - accuracy: 0.7082 - val_loss: 0.6092 - val_accuracy: 0.7296\n",
            "Epoch 10/100\n",
            "42/42 [==============================] - 0s 4ms/step - loss: 0.6999 - accuracy: 0.7078 - val_loss: 0.6030 - val_accuracy: 0.7327\n",
            "Epoch 11/100\n",
            "42/42 [==============================] - 0s 4ms/step - loss: 0.6758 - accuracy: 0.7199 - val_loss: 0.5967 - val_accuracy: 0.7513\n",
            "Epoch 12/100\n",
            "42/42 [==============================] - 0s 4ms/step - loss: 0.6619 - accuracy: 0.7250 - val_loss: 0.5909 - val_accuracy: 0.7545\n",
            "Epoch 13/100\n",
            "42/42 [==============================] - 0s 4ms/step - loss: 0.6496 - accuracy: 0.7316 - val_loss: 0.5750 - val_accuracy: 0.7606\n",
            "Epoch 14/100\n",
            "42/42 [==============================] - 0s 4ms/step - loss: 0.6455 - accuracy: 0.7362 - val_loss: 0.5808 - val_accuracy: 0.7621\n",
            "Epoch 15/100\n",
            "42/42 [==============================] - 0s 4ms/step - loss: 0.6345 - accuracy: 0.7455 - val_loss: 0.5711 - val_accuracy: 0.7742\n",
            "Epoch 16/100\n",
            "42/42 [==============================] - 0s 4ms/step - loss: 0.6209 - accuracy: 0.7499 - val_loss: 0.5440 - val_accuracy: 0.7816\n",
            "Epoch 17/100\n",
            "42/42 [==============================] - 0s 4ms/step - loss: 0.6064 - accuracy: 0.7565 - val_loss: 0.5441 - val_accuracy: 0.7888\n",
            "Epoch 18/100\n",
            "42/42 [==============================] - 0s 3ms/step - loss: 0.5902 - accuracy: 0.7677 - val_loss: 0.5230 - val_accuracy: 0.7981\n",
            "Epoch 19/100\n",
            "42/42 [==============================] - 0s 4ms/step - loss: 0.5758 - accuracy: 0.7763 - val_loss: 0.5244 - val_accuracy: 0.8014\n",
            "Epoch 20/100\n",
            "42/42 [==============================] - 0s 4ms/step - loss: 0.5633 - accuracy: 0.7883 - val_loss: 0.5129 - val_accuracy: 0.8161\n",
            "Epoch 21/100\n",
            "42/42 [==============================] - 0s 4ms/step - loss: 0.5450 - accuracy: 0.7962 - val_loss: 0.5039 - val_accuracy: 0.8208\n",
            "Epoch 22/100\n",
            "42/42 [==============================] - 0s 4ms/step - loss: 0.5436 - accuracy: 0.7980 - val_loss: 0.4951 - val_accuracy: 0.8215\n",
            "Epoch 23/100\n",
            "42/42 [==============================] - 0s 4ms/step - loss: 0.5347 - accuracy: 0.8011 - val_loss: 0.4938 - val_accuracy: 0.8265\n",
            "Epoch 24/100\n",
            "42/42 [==============================] - 0s 4ms/step - loss: 0.5210 - accuracy: 0.8073 - val_loss: 0.4821 - val_accuracy: 0.8303\n",
            "Epoch 25/100\n",
            "42/42 [==============================] - 0s 4ms/step - loss: 0.5140 - accuracy: 0.8105 - val_loss: 0.4751 - val_accuracy: 0.8303\n",
            "Epoch 26/100\n",
            "42/42 [==============================] - 0s 4ms/step - loss: 0.5078 - accuracy: 0.8141 - val_loss: 0.4729 - val_accuracy: 0.8353\n",
            "Epoch 27/100\n",
            "42/42 [==============================] - 0s 4ms/step - loss: 0.5035 - accuracy: 0.8151 - val_loss: 0.4688 - val_accuracy: 0.8366\n",
            "Epoch 28/100\n",
            "42/42 [==============================] - 0s 4ms/step - loss: 0.4953 - accuracy: 0.8158 - val_loss: 0.4677 - val_accuracy: 0.8358\n",
            "Epoch 29/100\n",
            "42/42 [==============================] - 0s 4ms/step - loss: 0.4959 - accuracy: 0.8157 - val_loss: 0.4708 - val_accuracy: 0.8351\n",
            "Epoch 30/100\n",
            "42/42 [==============================] - 0s 4ms/step - loss: 0.4908 - accuracy: 0.8187 - val_loss: 0.4740 - val_accuracy: 0.8375\n",
            "Epoch 31/100\n",
            "42/42 [==============================] - 0s 4ms/step - loss: 0.4857 - accuracy: 0.8192 - val_loss: 0.4569 - val_accuracy: 0.8363\n",
            "Epoch 32/100\n",
            "42/42 [==============================] - 0s 4ms/step - loss: 0.4790 - accuracy: 0.8224 - val_loss: 0.4614 - val_accuracy: 0.8394\n",
            "Epoch 33/100\n",
            "42/42 [==============================] - 0s 4ms/step - loss: 0.4775 - accuracy: 0.8224 - val_loss: 0.4531 - val_accuracy: 0.8439\n",
            "Epoch 34/100\n",
            "42/42 [==============================] - 0s 4ms/step - loss: 0.4680 - accuracy: 0.8245 - val_loss: 0.4562 - val_accuracy: 0.8386\n",
            "Epoch 35/100\n",
            "42/42 [==============================] - 0s 4ms/step - loss: 0.4707 - accuracy: 0.8259 - val_loss: 0.4586 - val_accuracy: 0.8393\n",
            "Epoch 36/100\n",
            "42/42 [==============================] - 0s 4ms/step - loss: 0.4704 - accuracy: 0.8274 - val_loss: 0.4399 - val_accuracy: 0.8425\n",
            "Epoch 37/100\n",
            "42/42 [==============================] - 0s 4ms/step - loss: 0.4641 - accuracy: 0.8285 - val_loss: 0.4459 - val_accuracy: 0.8442\n",
            "Epoch 38/100\n",
            "42/42 [==============================] - 0s 4ms/step - loss: 0.4553 - accuracy: 0.8302 - val_loss: 0.4445 - val_accuracy: 0.8463\n",
            "Epoch 39/100\n",
            "42/42 [==============================] - 0s 4ms/step - loss: 0.4578 - accuracy: 0.8320 - val_loss: 0.4428 - val_accuracy: 0.8445\n",
            "Epoch 40/100\n",
            "42/42 [==============================] - 0s 4ms/step - loss: 0.4574 - accuracy: 0.8319 - val_loss: 0.4489 - val_accuracy: 0.8438\n",
            "Epoch 41/100\n",
            "42/42 [==============================] - 0s 3ms/step - loss: 0.4513 - accuracy: 0.8331 - val_loss: 0.4399 - val_accuracy: 0.8461\n",
            "Epoch 42/100\n",
            "42/42 [==============================] - 0s 4ms/step - loss: 0.4481 - accuracy: 0.8349 - val_loss: 0.4332 - val_accuracy: 0.8470\n",
            "Epoch 43/100\n",
            "42/42 [==============================] - 0s 4ms/step - loss: 0.4421 - accuracy: 0.8340 - val_loss: 0.4372 - val_accuracy: 0.8423\n",
            "Epoch 44/100\n",
            "42/42 [==============================] - 0s 4ms/step - loss: 0.4380 - accuracy: 0.8369 - val_loss: 0.4370 - val_accuracy: 0.8468\n",
            "Epoch 45/100\n",
            "42/42 [==============================] - 0s 3ms/step - loss: 0.4398 - accuracy: 0.8363 - val_loss: 0.4322 - val_accuracy: 0.8487\n",
            "Epoch 46/100\n",
            "42/42 [==============================] - 0s 3ms/step - loss: 0.4350 - accuracy: 0.8366 - val_loss: 0.4295 - val_accuracy: 0.8486\n",
            "Epoch 47/100\n",
            "42/42 [==============================] - 0s 4ms/step - loss: 0.4298 - accuracy: 0.8401 - val_loss: 0.4302 - val_accuracy: 0.8474\n",
            "Epoch 48/100\n",
            "42/42 [==============================] - 0s 4ms/step - loss: 0.4281 - accuracy: 0.8402 - val_loss: 0.4250 - val_accuracy: 0.8491\n",
            "Epoch 49/100\n",
            "42/42 [==============================] - 0s 4ms/step - loss: 0.4232 - accuracy: 0.8417 - val_loss: 0.4195 - val_accuracy: 0.8508\n",
            "Epoch 50/100\n",
            "42/42 [==============================] - 0s 4ms/step - loss: 0.4212 - accuracy: 0.8411 - val_loss: 0.4228 - val_accuracy: 0.8492\n",
            "Epoch 51/100\n",
            "42/42 [==============================] - 0s 4ms/step - loss: 0.4198 - accuracy: 0.8429 - val_loss: 0.4205 - val_accuracy: 0.8502\n",
            "Epoch 52/100\n",
            "42/42 [==============================] - 0s 4ms/step - loss: 0.4168 - accuracy: 0.8445 - val_loss: 0.4231 - val_accuracy: 0.8525\n",
            "Epoch 53/100\n",
            "42/42 [==============================] - 0s 3ms/step - loss: 0.4149 - accuracy: 0.8426 - val_loss: 0.4324 - val_accuracy: 0.8473\n",
            "Epoch 54/100\n",
            "42/42 [==============================] - 0s 4ms/step - loss: 0.4122 - accuracy: 0.8448 - val_loss: 0.4307 - val_accuracy: 0.8485\n",
            "Epoch 55/100\n",
            "42/42 [==============================] - 0s 4ms/step - loss: 0.4092 - accuracy: 0.8448 - val_loss: 0.4168 - val_accuracy: 0.8538\n",
            "Epoch 56/100\n",
            "42/42 [==============================] - 0s 4ms/step - loss: 0.4065 - accuracy: 0.8464 - val_loss: 0.4352 - val_accuracy: 0.8460\n",
            "Epoch 57/100\n",
            "42/42 [==============================] - 0s 4ms/step - loss: 0.4060 - accuracy: 0.8473 - val_loss: 0.4112 - val_accuracy: 0.8545\n",
            "Epoch 58/100\n",
            "42/42 [==============================] - 0s 4ms/step - loss: 0.4050 - accuracy: 0.8466 - val_loss: 0.4196 - val_accuracy: 0.8507\n",
            "Epoch 59/100\n",
            "42/42 [==============================] - 0s 4ms/step - loss: 0.3969 - accuracy: 0.8499 - val_loss: 0.4144 - val_accuracy: 0.8573\n",
            "Epoch 60/100\n",
            "42/42 [==============================] - 0s 4ms/step - loss: 0.3976 - accuracy: 0.8496 - val_loss: 0.4157 - val_accuracy: 0.8520\n",
            "Epoch 61/100\n",
            "42/42 [==============================] - 0s 4ms/step - loss: 0.3928 - accuracy: 0.8505 - val_loss: 0.4146 - val_accuracy: 0.8547\n",
            "Epoch 62/100\n",
            "42/42 [==============================] - 0s 4ms/step - loss: 0.3881 - accuracy: 0.8527 - val_loss: 0.4153 - val_accuracy: 0.8560\n",
            "Epoch 63/100\n",
            "42/42 [==============================] - 0s 4ms/step - loss: 0.3884 - accuracy: 0.8533 - val_loss: 0.4073 - val_accuracy: 0.8551\n",
            "Epoch 64/100\n",
            "42/42 [==============================] - 0s 4ms/step - loss: 0.3872 - accuracy: 0.8541 - val_loss: 0.4072 - val_accuracy: 0.8572\n",
            "Epoch 65/100\n",
            "42/42 [==============================] - 0s 4ms/step - loss: 0.3838 - accuracy: 0.8543 - val_loss: 0.4126 - val_accuracy: 0.8555\n",
            "Epoch 66/100\n",
            "42/42 [==============================] - 0s 4ms/step - loss: 0.3808 - accuracy: 0.8556 - val_loss: 0.4035 - val_accuracy: 0.8596\n",
            "Epoch 67/100\n",
            "42/42 [==============================] - 0s 4ms/step - loss: 0.3835 - accuracy: 0.8544 - val_loss: 0.4093 - val_accuracy: 0.8585\n",
            "Epoch 68/100\n",
            "42/42 [==============================] - 0s 4ms/step - loss: 0.3767 - accuracy: 0.8572 - val_loss: 0.4065 - val_accuracy: 0.8577\n",
            "Epoch 69/100\n",
            "42/42 [==============================] - 0s 4ms/step - loss: 0.3808 - accuracy: 0.8558 - val_loss: 0.4051 - val_accuracy: 0.8591\n",
            "Epoch 70/100\n",
            "42/42 [==============================] - 0s 4ms/step - loss: 0.3737 - accuracy: 0.8593 - val_loss: 0.4002 - val_accuracy: 0.8604\n",
            "Epoch 71/100\n",
            "42/42 [==============================] - 0s 4ms/step - loss: 0.3766 - accuracy: 0.8557 - val_loss: 0.4036 - val_accuracy: 0.8617\n",
            "Epoch 72/100\n",
            "42/42 [==============================] - 0s 4ms/step - loss: 0.3758 - accuracy: 0.8568 - val_loss: 0.3998 - val_accuracy: 0.8597\n",
            "Epoch 73/100\n",
            "42/42 [==============================] - 0s 3ms/step - loss: 0.3695 - accuracy: 0.8597 - val_loss: 0.4007 - val_accuracy: 0.8629\n",
            "Epoch 74/100\n",
            "42/42 [==============================] - 0s 4ms/step - loss: 0.3687 - accuracy: 0.8591 - val_loss: 0.4136 - val_accuracy: 0.8520\n",
            "Epoch 75/100\n",
            "42/42 [==============================] - 0s 4ms/step - loss: 0.3711 - accuracy: 0.8594 - val_loss: 0.4204 - val_accuracy: 0.8554\n",
            "Epoch 76/100\n",
            "42/42 [==============================] - 0s 4ms/step - loss: 0.3701 - accuracy: 0.8592 - val_loss: 0.3976 - val_accuracy: 0.8603\n",
            "Epoch 77/100\n",
            "42/42 [==============================] - 0s 4ms/step - loss: 0.3655 - accuracy: 0.8611 - val_loss: 0.3955 - val_accuracy: 0.8624\n",
            "Epoch 78/100\n",
            "42/42 [==============================] - 0s 4ms/step - loss: 0.3649 - accuracy: 0.8622 - val_loss: 0.3973 - val_accuracy: 0.8610\n",
            "Epoch 79/100\n",
            "42/42 [==============================] - 0s 4ms/step - loss: 0.3638 - accuracy: 0.8614 - val_loss: 0.3988 - val_accuracy: 0.8620\n",
            "Epoch 80/100\n",
            "42/42 [==============================] - 0s 4ms/step - loss: 0.3612 - accuracy: 0.8626 - val_loss: 0.4144 - val_accuracy: 0.8608\n",
            "Epoch 81/100\n",
            "42/42 [==============================] - 0s 4ms/step - loss: 0.3619 - accuracy: 0.8615 - val_loss: 0.4040 - val_accuracy: 0.8620\n",
            "Epoch 82/100\n",
            "42/42 [==============================] - 0s 4ms/step - loss: 0.3620 - accuracy: 0.8634 - val_loss: 0.4085 - val_accuracy: 0.8539\n",
            "Epoch 83/100\n",
            "42/42 [==============================] - 0s 4ms/step - loss: 0.3601 - accuracy: 0.8632 - val_loss: 0.4025 - val_accuracy: 0.8634\n",
            "Epoch 84/100\n",
            "42/42 [==============================] - 0s 4ms/step - loss: 0.3612 - accuracy: 0.8635 - val_loss: 0.4005 - val_accuracy: 0.8596\n",
            "Epoch 85/100\n",
            "42/42 [==============================] - 0s 4ms/step - loss: 0.3589 - accuracy: 0.8625 - val_loss: 0.4013 - val_accuracy: 0.8628\n",
            "Epoch 86/100\n",
            "42/42 [==============================] - 0s 4ms/step - loss: 0.3578 - accuracy: 0.8634 - val_loss: 0.3932 - val_accuracy: 0.8648\n",
            "Epoch 87/100\n",
            "42/42 [==============================] - 0s 4ms/step - loss: 0.3584 - accuracy: 0.8639 - val_loss: 0.4061 - val_accuracy: 0.8622\n",
            "Epoch 88/100\n",
            "42/42 [==============================] - 0s 4ms/step - loss: 0.3539 - accuracy: 0.8654 - val_loss: 0.3970 - val_accuracy: 0.8665\n",
            "Epoch 89/100\n",
            "42/42 [==============================] - 0s 4ms/step - loss: 0.3502 - accuracy: 0.8667 - val_loss: 0.4074 - val_accuracy: 0.8622\n",
            "Epoch 90/100\n",
            "42/42 [==============================] - 0s 4ms/step - loss: 0.3513 - accuracy: 0.8670 - val_loss: 0.4026 - val_accuracy: 0.8617\n",
            "Epoch 91/100\n",
            "42/42 [==============================] - 0s 4ms/step - loss: 0.3460 - accuracy: 0.8687 - val_loss: 0.4008 - val_accuracy: 0.8637\n",
            "Epoch 92/100\n",
            "42/42 [==============================] - 0s 4ms/step - loss: 0.3499 - accuracy: 0.8676 - val_loss: 0.3970 - val_accuracy: 0.8644\n",
            "Epoch 93/100\n",
            "42/42 [==============================] - 0s 4ms/step - loss: 0.3521 - accuracy: 0.8665 - val_loss: 0.3973 - val_accuracy: 0.8632\n",
            "Epoch 94/100\n",
            "42/42 [==============================] - 0s 4ms/step - loss: 0.3463 - accuracy: 0.8685 - val_loss: 0.3933 - val_accuracy: 0.8619\n",
            "Epoch 95/100\n",
            "42/42 [==============================] - 0s 4ms/step - loss: 0.3428 - accuracy: 0.8698 - val_loss: 0.3997 - val_accuracy: 0.8617\n",
            "Epoch 96/100\n",
            "42/42 [==============================] - 0s 4ms/step - loss: 0.3462 - accuracy: 0.8695 - val_loss: 0.3950 - val_accuracy: 0.8624\n",
            "Epoch 97/100\n",
            "42/42 [==============================] - 0s 4ms/step - loss: 0.3483 - accuracy: 0.8676 - val_loss: 0.3896 - val_accuracy: 0.8645\n",
            "Epoch 98/100\n",
            "42/42 [==============================] - 0s 4ms/step - loss: 0.3452 - accuracy: 0.8696 - val_loss: 0.3974 - val_accuracy: 0.8608\n",
            "Epoch 99/100\n",
            "42/42 [==============================] - 0s 4ms/step - loss: 0.3424 - accuracy: 0.8715 - val_loss: 0.3939 - val_accuracy: 0.8638\n",
            "Epoch 100/100\n",
            "42/42 [==============================] - 0s 4ms/step - loss: 0.3377 - accuracy: 0.8719 - val_loss: 0.4004 - val_accuracy: 0.8635\n"
          ],
          "name": "stdout"
        }
      ]
    },
    {
      "cell_type": "markdown",
      "metadata": {
        "id": "0QCTTC0kCVGa",
        "colab_type": "text"
      },
      "source": [
        "# **Training loss vs validation loss without generator class**"
      ]
    },
    {
      "cell_type": "code",
      "metadata": {
        "id": "YbVGK2AK6lfV",
        "colab_type": "code",
        "colab": {
          "base_uri": "https://localhost:8080/",
          "height": 312
        },
        "outputId": "c48322a6-4a63-435c-9ef3-150bd4937767"
      },
      "source": [
        "plt.plot(history2.history['loss'],'b',label='loss')\n",
        "plt.plot(history2.history['val_loss'],'r',label='val_loss')\n",
        "plt.xlabel('epoch')\n",
        "plt.ylabel('loss')\n",
        "plt.title('training loss vs validation loss without generator class')\n",
        "plt.legend()"
      ],
      "execution_count": 21,
      "outputs": [
        {
          "output_type": "execute_result",
          "data": {
            "text/plain": [
              "<matplotlib.legend.Legend at 0x7fcd4a99d080>"
            ]
          },
          "metadata": {
            "tags": []
          },
          "execution_count": 21
        },
        {
          "output_type": "display_data",
          "data": {
            "image/png": "[encoded data removed]",
            "text/plain": [
              "<Figure size 432x288 with 1 Axes>"
            ]
          },
          "metadata": {
            "tags": []
          }
        }
      ]
    },
    {
      "cell_type": "code",
      "metadata": {
        "id": "2ikKz3VJ6mnk",
        "colab_type": "code",
        "colab": {
          "base_uri": "https://localhost:8080/",
          "height": 312
        },
        "outputId": "6711ee9d-e19e-4078-f92f-5b297b199a73"
      },
      "source": [
        "plt.plot(history2.history['accuracy'],'b',label='accuracy')\n",
        "plt.plot(history2.history['val_accuracy'],'r',label='val_accuracy')\n",
        "plt.xlabel('epoch')\n",
        "plt.ylabel('accuracy')\n",
        "plt.title('training acc vs validation acc without generator class')\n",
        "plt.legend()"
      ],
      "execution_count": 22,
      "outputs": [
        {
          "output_type": "execute_result",
          "data": {
            "text/plain": [
              "<matplotlib.legend.Legend at 0x7fcd641c2be0>"
            ]
          },
          "metadata": {
            "tags": []
          },
          "execution_count": 22
        },
        {
          "output_type": "display_data",
          "data": {
            "image/png": "[encoded data removed]",
            "text/plain": [
              "<Figure size 432x288 with 1 Axes>"
            ]
          },
          "metadata": {
            "tags": []
          }
        }
      ]
    },
    {
      "cell_type": "markdown",
      "metadata": {
        "id": "zFLF0hdwDe93",
        "colab_type": "text"
      },
      "source": [
        "# **Power of singel convolution layer**"
      ]
    },
    {
      "cell_type": "code",
      "metadata": {
        "colab_type": "code",
        "id": "1OagIXYLC4ul",
        "colab": {}
      },
      "source": [
        "model3=tf.keras.Sequential([\n",
        "            Conv2D(32, (3,3), padding='same', activation='relu', input_shape=(28,28,1)),\n",
        "            MaxPooling2D(2, 2),\n",
        "            Dropout(0.10),\n",
        "            Flatten(),\n",
        "            Dense(64,activation='relu'),\n",
        "            Dropout(0.2),\n",
        "            Dense(256,activation='relu'),\n",
        "            Dense(128,activation='relu'),\n",
        "            Dropout(0.15),\n",
        "            Dense(10)        \n",
        "  ])\n",
        "model3.compile(optimizer = 'adam',\n",
        "                  loss=tf.losses.SparseCategoricalCrossentropy(from_logits=True),\n",
        "                  metrics=['accuracy'])"
      ],
      "execution_count": 0,
      "outputs": []
    },
    {
      "cell_type": "code",
      "metadata": {
        "colab_type": "code",
        "outputId": "99e447a9-8bc0-4090-eef1-0b935a9eb8fb",
        "id": "ZDOipMtfC4ut",
        "colab": {
          "base_uri": "https://localhost:8080/",
          "height": 1000
        }
      },
      "source": [
        "history3=model3.fit(x=train_Data,y=train_label,steps_per_epoch=42,epochs=100,validation_data=(test_data,test_label),validation_steps=10)"
      ],
      "execution_count": 50,
      "outputs": [
        {
          "output_type": "stream",
          "text": [
            "Epoch 1/100\n",
            "42/42 [==============================] - 1s 14ms/step - loss: 3.2581 - accuracy: 0.4166 - val_loss: 1.0332 - val_accuracy: 0.6910\n",
            "Epoch 2/100\n",
            "42/42 [==============================] - 0s 12ms/step - loss: 1.1883 - accuracy: 0.6075 - val_loss: 0.8491 - val_accuracy: 0.7252\n",
            "Epoch 3/100\n",
            "42/42 [==============================] - 1s 12ms/step - loss: 1.0104 - accuracy: 0.6481 - val_loss: 0.7228 - val_accuracy: 0.7418\n",
            "Epoch 4/100\n",
            "42/42 [==============================] - 0s 12ms/step - loss: 0.8701 - accuracy: 0.6708 - val_loss: 0.6127 - val_accuracy: 0.7501\n",
            "Epoch 5/100\n",
            "42/42 [==============================] - 1s 12ms/step - loss: 0.7737 - accuracy: 0.6881 - val_loss: 0.5802 - val_accuracy: 0.7534\n",
            "Epoch 6/100\n",
            "42/42 [==============================] - 0s 12ms/step - loss: 0.7111 - accuracy: 0.7025 - val_loss: 0.5490 - val_accuracy: 0.7598\n",
            "Epoch 7/100\n",
            "42/42 [==============================] - 1s 12ms/step - loss: 0.6807 - accuracy: 0.7107 - val_loss: 0.5365 - val_accuracy: 0.7651\n",
            "Epoch 8/100\n",
            "42/42 [==============================] - 0s 12ms/step - loss: 0.6362 - accuracy: 0.7278 - val_loss: 0.5284 - val_accuracy: 0.7650\n",
            "Epoch 9/100\n",
            "42/42 [==============================] - 1s 12ms/step - loss: 0.6142 - accuracy: 0.7364 - val_loss: 0.5042 - val_accuracy: 0.7791\n",
            "Epoch 10/100\n",
            "42/42 [==============================] - 1s 12ms/step - loss: 0.5977 - accuracy: 0.7441 - val_loss: 0.5065 - val_accuracy: 0.7758\n",
            "Epoch 11/100\n",
            "42/42 [==============================] - 1s 12ms/step - loss: 0.5785 - accuracy: 0.7545 - val_loss: 0.4916 - val_accuracy: 0.7861\n",
            "Epoch 12/100\n",
            "42/42 [==============================] - 1s 12ms/step - loss: 0.5672 - accuracy: 0.7634 - val_loss: 0.4858 - val_accuracy: 0.7940\n",
            "Epoch 13/100\n",
            "42/42 [==============================] - 1s 12ms/step - loss: 0.5523 - accuracy: 0.7716 - val_loss: 0.4790 - val_accuracy: 0.8021\n",
            "Epoch 14/100\n",
            "42/42 [==============================] - 0s 12ms/step - loss: 0.5379 - accuracy: 0.7832 - val_loss: 0.4698 - val_accuracy: 0.8133\n",
            "Epoch 15/100\n",
            "42/42 [==============================] - 1s 12ms/step - loss: 0.5174 - accuracy: 0.7969 - val_loss: 0.4374 - val_accuracy: 0.8319\n",
            "Epoch 16/100\n",
            "42/42 [==============================] - 0s 12ms/step - loss: 0.5074 - accuracy: 0.8053 - val_loss: 0.4246 - val_accuracy: 0.8398\n",
            "Epoch 17/100\n",
            "42/42 [==============================] - 1s 12ms/step - loss: 0.4952 - accuracy: 0.8085 - val_loss: 0.4285 - val_accuracy: 0.8391\n",
            "Epoch 18/100\n",
            "42/42 [==============================] - 0s 12ms/step - loss: 0.4878 - accuracy: 0.8127 - val_loss: 0.4180 - val_accuracy: 0.8424\n",
            "Epoch 19/100\n",
            "42/42 [==============================] - 1s 12ms/step - loss: 0.4768 - accuracy: 0.8179 - val_loss: 0.4133 - val_accuracy: 0.8446\n",
            "Epoch 20/100\n",
            "42/42 [==============================] - 1s 12ms/step - loss: 0.4702 - accuracy: 0.8216 - val_loss: 0.4061 - val_accuracy: 0.8513\n",
            "Epoch 21/100\n",
            "42/42 [==============================] - 1s 12ms/step - loss: 0.4560 - accuracy: 0.8255 - val_loss: 0.4173 - val_accuracy: 0.8435\n",
            "Epoch 22/100\n",
            "42/42 [==============================] - 1s 12ms/step - loss: 0.4610 - accuracy: 0.8244 - val_loss: 0.3936 - val_accuracy: 0.8579\n",
            "Epoch 23/100\n",
            "42/42 [==============================] - 1s 12ms/step - loss: 0.4427 - accuracy: 0.8322 - val_loss: 0.3799 - val_accuracy: 0.8616\n",
            "Epoch 24/100\n",
            "42/42 [==============================] - 1s 12ms/step - loss: 0.4264 - accuracy: 0.8352 - val_loss: 0.3747 - val_accuracy: 0.8597\n",
            "Epoch 25/100\n",
            "42/42 [==============================] - 1s 12ms/step - loss: 0.4052 - accuracy: 0.8447 - val_loss: 0.3376 - val_accuracy: 0.8866\n",
            "Epoch 26/100\n",
            "42/42 [==============================] - 1s 12ms/step - loss: 0.3885 - accuracy: 0.8554 - val_loss: 0.3271 - val_accuracy: 0.8917\n",
            "Epoch 27/100\n",
            "42/42 [==============================] - 1s 12ms/step - loss: 0.3709 - accuracy: 0.8625 - val_loss: 0.3195 - val_accuracy: 0.8940\n",
            "Epoch 28/100\n",
            "42/42 [==============================] - 1s 12ms/step - loss: 0.3674 - accuracy: 0.8633 - val_loss: 0.3220 - val_accuracy: 0.8896\n",
            "Epoch 29/100\n",
            "42/42 [==============================] - 1s 12ms/step - loss: 0.3584 - accuracy: 0.8664 - val_loss: 0.3093 - val_accuracy: 0.8945\n",
            "Epoch 30/100\n",
            "42/42 [==============================] - 1s 12ms/step - loss: 0.3493 - accuracy: 0.8701 - val_loss: 0.3125 - val_accuracy: 0.8933\n",
            "Epoch 31/100\n",
            "42/42 [==============================] - 1s 12ms/step - loss: 0.3473 - accuracy: 0.8714 - val_loss: 0.3131 - val_accuracy: 0.8943\n",
            "Epoch 32/100\n",
            "42/42 [==============================] - 1s 12ms/step - loss: 0.3448 - accuracy: 0.8711 - val_loss: 0.3033 - val_accuracy: 0.9006\n",
            "Epoch 33/100\n",
            "42/42 [==============================] - 1s 12ms/step - loss: 0.3357 - accuracy: 0.8750 - val_loss: 0.3010 - val_accuracy: 0.8989\n",
            "Epoch 34/100\n",
            "42/42 [==============================] - 1s 12ms/step - loss: 0.3367 - accuracy: 0.8761 - val_loss: 0.3047 - val_accuracy: 0.8991\n",
            "Epoch 35/100\n",
            "42/42 [==============================] - 1s 12ms/step - loss: 0.3307 - accuracy: 0.8786 - val_loss: 0.3092 - val_accuracy: 0.8948\n",
            "Epoch 36/100\n",
            "42/42 [==============================] - 1s 12ms/step - loss: 0.3243 - accuracy: 0.8812 - val_loss: 0.2999 - val_accuracy: 0.8970\n",
            "Epoch 37/100\n",
            "42/42 [==============================] - 1s 12ms/step - loss: 0.3236 - accuracy: 0.8816 - val_loss: 0.2966 - val_accuracy: 0.8966\n",
            "Epoch 38/100\n",
            "42/42 [==============================] - 1s 12ms/step - loss: 0.3163 - accuracy: 0.8841 - val_loss: 0.3000 - val_accuracy: 0.8966\n",
            "Epoch 39/100\n",
            "42/42 [==============================] - 0s 12ms/step - loss: 0.3113 - accuracy: 0.8857 - val_loss: 0.2986 - val_accuracy: 0.8985\n",
            "Epoch 40/100\n",
            "42/42 [==============================] - 1s 12ms/step - loss: 0.3039 - accuracy: 0.8895 - val_loss: 0.2904 - val_accuracy: 0.9002\n",
            "Epoch 41/100\n",
            "42/42 [==============================] - 1s 12ms/step - loss: 0.3043 - accuracy: 0.8880 - val_loss: 0.2923 - val_accuracy: 0.8972\n",
            "Epoch 42/100\n",
            "42/42 [==============================] - 1s 12ms/step - loss: 0.2977 - accuracy: 0.8894 - val_loss: 0.2885 - val_accuracy: 0.8977\n",
            "Epoch 43/100\n",
            "42/42 [==============================] - 1s 12ms/step - loss: 0.2904 - accuracy: 0.8946 - val_loss: 0.3016 - val_accuracy: 0.9004\n",
            "Epoch 44/100\n",
            "42/42 [==============================] - 1s 12ms/step - loss: 0.2945 - accuracy: 0.8930 - val_loss: 0.2933 - val_accuracy: 0.8966\n",
            "Epoch 45/100\n",
            "42/42 [==============================] - 1s 12ms/step - loss: 0.2864 - accuracy: 0.8953 - val_loss: 0.2945 - val_accuracy: 0.9017\n",
            "Epoch 46/100\n",
            "42/42 [==============================] - 0s 12ms/step - loss: 0.2837 - accuracy: 0.8952 - val_loss: 0.2948 - val_accuracy: 0.8997\n",
            "Epoch 47/100\n",
            "42/42 [==============================] - 0s 12ms/step - loss: 0.2814 - accuracy: 0.8992 - val_loss: 0.2886 - val_accuracy: 0.8989\n",
            "Epoch 48/100\n",
            "42/42 [==============================] - 0s 11ms/step - loss: 0.2775 - accuracy: 0.8983 - val_loss: 0.2870 - val_accuracy: 0.9020\n",
            "Epoch 49/100\n",
            "42/42 [==============================] - 0s 12ms/step - loss: 0.2763 - accuracy: 0.8994 - val_loss: 0.2867 - val_accuracy: 0.9019\n",
            "Epoch 50/100\n",
            "42/42 [==============================] - 0s 12ms/step - loss: 0.2768 - accuracy: 0.8987 - val_loss: 0.2830 - val_accuracy: 0.9050\n",
            "Epoch 51/100\n",
            "42/42 [==============================] - 0s 12ms/step - loss: 0.2674 - accuracy: 0.9025 - val_loss: 0.2799 - val_accuracy: 0.9027\n",
            "Epoch 52/100\n",
            "42/42 [==============================] - 0s 12ms/step - loss: 0.2630 - accuracy: 0.9042 - val_loss: 0.3009 - val_accuracy: 0.8950\n",
            "Epoch 53/100\n",
            "42/42 [==============================] - 1s 12ms/step - loss: 0.2663 - accuracy: 0.9025 - val_loss: 0.2831 - val_accuracy: 0.9026\n",
            "Epoch 54/100\n",
            "42/42 [==============================] - 1s 12ms/step - loss: 0.2612 - accuracy: 0.9055 - val_loss: 0.2887 - val_accuracy: 0.8996\n",
            "Epoch 55/100\n",
            "42/42 [==============================] - 1s 12ms/step - loss: 0.2614 - accuracy: 0.9046 - val_loss: 0.2875 - val_accuracy: 0.9037\n",
            "Epoch 56/100\n",
            "42/42 [==============================] - 1s 12ms/step - loss: 0.2590 - accuracy: 0.9057 - val_loss: 0.2840 - val_accuracy: 0.9012\n",
            "Epoch 57/100\n",
            "42/42 [==============================] - 0s 12ms/step - loss: 0.2558 - accuracy: 0.9079 - val_loss: 0.2855 - val_accuracy: 0.9017\n",
            "Epoch 58/100\n",
            "42/42 [==============================] - 1s 12ms/step - loss: 0.2512 - accuracy: 0.9103 - val_loss: 0.2781 - val_accuracy: 0.9037\n",
            "Epoch 59/100\n",
            "42/42 [==============================] - 0s 12ms/step - loss: 0.2471 - accuracy: 0.9112 - val_loss: 0.2778 - val_accuracy: 0.9045\n",
            "Epoch 60/100\n",
            "42/42 [==============================] - 1s 12ms/step - loss: 0.2449 - accuracy: 0.9125 - val_loss: 0.2842 - val_accuracy: 0.9039\n",
            "Epoch 61/100\n",
            "42/42 [==============================] - 0s 12ms/step - loss: 0.2482 - accuracy: 0.9109 - val_loss: 0.2871 - val_accuracy: 0.9030\n",
            "Epoch 62/100\n",
            "42/42 [==============================] - 0s 12ms/step - loss: 0.2464 - accuracy: 0.9116 - val_loss: 0.2796 - val_accuracy: 0.9056\n",
            "Epoch 63/100\n",
            "42/42 [==============================] - 0s 12ms/step - loss: 0.2433 - accuracy: 0.9127 - val_loss: 0.2735 - val_accuracy: 0.9059\n",
            "Epoch 64/100\n",
            "42/42 [==============================] - 0s 12ms/step - loss: 0.2423 - accuracy: 0.9126 - val_loss: 0.2806 - val_accuracy: 0.9056\n",
            "Epoch 65/100\n",
            "42/42 [==============================] - 1s 12ms/step - loss: 0.2434 - accuracy: 0.9122 - val_loss: 0.3104 - val_accuracy: 0.8932\n",
            "Epoch 66/100\n",
            "42/42 [==============================] - 1s 12ms/step - loss: 0.2397 - accuracy: 0.9149 - val_loss: 0.2850 - val_accuracy: 0.9029\n",
            "Epoch 67/100\n",
            "42/42 [==============================] - 0s 12ms/step - loss: 0.2364 - accuracy: 0.9150 - val_loss: 0.2789 - val_accuracy: 0.9052\n",
            "Epoch 68/100\n",
            "42/42 [==============================] - 0s 12ms/step - loss: 0.2365 - accuracy: 0.9147 - val_loss: 0.2778 - val_accuracy: 0.9054\n",
            "Epoch 69/100\n",
            "42/42 [==============================] - 0s 12ms/step - loss: 0.2301 - accuracy: 0.9163 - val_loss: 0.2835 - val_accuracy: 0.9051\n",
            "Epoch 70/100\n",
            "42/42 [==============================] - 1s 12ms/step - loss: 0.2306 - accuracy: 0.9163 - val_loss: 0.2747 - val_accuracy: 0.9066\n",
            "Epoch 71/100\n",
            "42/42 [==============================] - 0s 12ms/step - loss: 0.2300 - accuracy: 0.9180 - val_loss: 0.2783 - val_accuracy: 0.9084\n",
            "Epoch 72/100\n",
            "42/42 [==============================] - 1s 12ms/step - loss: 0.2330 - accuracy: 0.9164 - val_loss: 0.2813 - val_accuracy: 0.9061\n",
            "Epoch 73/100\n",
            "42/42 [==============================] - 0s 12ms/step - loss: 0.2295 - accuracy: 0.9181 - val_loss: 0.2764 - val_accuracy: 0.9063\n",
            "Epoch 74/100\n",
            "42/42 [==============================] - 1s 12ms/step - loss: 0.2265 - accuracy: 0.9191 - val_loss: 0.2964 - val_accuracy: 0.9008\n",
            "Epoch 75/100\n",
            "42/42 [==============================] - 0s 12ms/step - loss: 0.2227 - accuracy: 0.9196 - val_loss: 0.2853 - val_accuracy: 0.9036\n",
            "Epoch 76/100\n",
            "42/42 [==============================] - 0s 12ms/step - loss: 0.2235 - accuracy: 0.9205 - val_loss: 0.2785 - val_accuracy: 0.9075\n",
            "Epoch 77/100\n",
            "42/42 [==============================] - 0s 12ms/step - loss: 0.2208 - accuracy: 0.9226 - val_loss: 0.2893 - val_accuracy: 0.9037\n",
            "Epoch 78/100\n",
            "42/42 [==============================] - 0s 12ms/step - loss: 0.2159 - accuracy: 0.9233 - val_loss: 0.2755 - val_accuracy: 0.9087\n",
            "Epoch 79/100\n",
            "42/42 [==============================] - 0s 12ms/step - loss: 0.2207 - accuracy: 0.9209 - val_loss: 0.3006 - val_accuracy: 0.9018\n",
            "Epoch 80/100\n",
            "42/42 [==============================] - 1s 12ms/step - loss: 0.2156 - accuracy: 0.9230 - val_loss: 0.2811 - val_accuracy: 0.9079\n",
            "Epoch 81/100\n",
            "42/42 [==============================] - 0s 12ms/step - loss: 0.2158 - accuracy: 0.9228 - val_loss: 0.2864 - val_accuracy: 0.9067\n",
            "Epoch 82/100\n",
            "42/42 [==============================] - 1s 12ms/step - loss: 0.2208 - accuracy: 0.9213 - val_loss: 0.2878 - val_accuracy: 0.9027\n",
            "Epoch 83/100\n",
            "42/42 [==============================] - 0s 12ms/step - loss: 0.2173 - accuracy: 0.9234 - val_loss: 0.2763 - val_accuracy: 0.9098\n",
            "Epoch 84/100\n",
            "42/42 [==============================] - 0s 12ms/step - loss: 0.2144 - accuracy: 0.9235 - val_loss: 0.2792 - val_accuracy: 0.9063\n",
            "Epoch 85/100\n",
            "42/42 [==============================] - 0s 12ms/step - loss: 0.2092 - accuracy: 0.9259 - val_loss: 0.2784 - val_accuracy: 0.9088\n",
            "Epoch 86/100\n",
            "42/42 [==============================] - 1s 12ms/step - loss: 0.2081 - accuracy: 0.9266 - val_loss: 0.2854 - val_accuracy: 0.9048\n",
            "Epoch 87/100\n",
            "42/42 [==============================] - 0s 12ms/step - loss: 0.2066 - accuracy: 0.9268 - val_loss: 0.2917 - val_accuracy: 0.9048\n",
            "Epoch 88/100\n",
            "42/42 [==============================] - 0s 12ms/step - loss: 0.2123 - accuracy: 0.9253 - val_loss: 0.2756 - val_accuracy: 0.9094\n",
            "Epoch 89/100\n",
            "42/42 [==============================] - 0s 12ms/step - loss: 0.2049 - accuracy: 0.9280 - val_loss: 0.2820 - val_accuracy: 0.9064\n",
            "Epoch 90/100\n",
            "42/42 [==============================] - 1s 12ms/step - loss: 0.2012 - accuracy: 0.9291 - val_loss: 0.2783 - val_accuracy: 0.9096\n",
            "Epoch 91/100\n",
            "42/42 [==============================] - 0s 12ms/step - loss: 0.1992 - accuracy: 0.9297 - val_loss: 0.2882 - val_accuracy: 0.9087\n",
            "Epoch 92/100\n",
            "42/42 [==============================] - 0s 12ms/step - loss: 0.2092 - accuracy: 0.9268 - val_loss: 0.2806 - val_accuracy: 0.9069\n",
            "Epoch 93/100\n",
            "42/42 [==============================] - 0s 12ms/step - loss: 0.2066 - accuracy: 0.9280 - val_loss: 0.2813 - val_accuracy: 0.9070\n",
            "Epoch 94/100\n",
            "42/42 [==============================] - 1s 12ms/step - loss: 0.1990 - accuracy: 0.9296 - val_loss: 0.2803 - val_accuracy: 0.9084\n",
            "Epoch 95/100\n",
            "42/42 [==============================] - 0s 12ms/step - loss: 0.1984 - accuracy: 0.9306 - val_loss: 0.2847 - val_accuracy: 0.9078\n",
            "Epoch 96/100\n",
            "42/42 [==============================] - 1s 18ms/step - loss: 0.1995 - accuracy: 0.9305 - val_loss: 0.2811 - val_accuracy: 0.9091\n",
            "Epoch 97/100\n",
            "42/42 [==============================] - 0s 12ms/step - loss: 0.1949 - accuracy: 0.9319 - val_loss: 0.2982 - val_accuracy: 0.9045\n",
            "Epoch 98/100\n",
            "42/42 [==============================] - 0s 12ms/step - loss: 0.1979 - accuracy: 0.9309 - val_loss: 0.2759 - val_accuracy: 0.9102\n",
            "Epoch 99/100\n",
            "42/42 [==============================] - 0s 12ms/step - loss: 0.1922 - accuracy: 0.9323 - val_loss: 0.2761 - val_accuracy: 0.9111\n",
            "Epoch 100/100\n",
            "42/42 [==============================] - 1s 12ms/step - loss: 0.1943 - accuracy: 0.9323 - val_loss: 0.2845 - val_accuracy: 0.9094\n"
          ],
          "name": "stdout"
        }
      ]
    },
    {
      "cell_type": "code",
      "metadata": {
        "colab_type": "code",
        "outputId": "66a05c1e-e87b-4943-dbd9-67a78f6f7b7c",
        "id": "eZkLxmFIC4u0",
        "colab": {
          "base_uri": "https://localhost:8080/",
          "height": 294
        }
      },
      "source": [
        "plt.plot(history.history['loss'],'b',label='loss')\n",
        "plt.plot(history.history['val_loss'],'r',label='val_loss')\n",
        "plt.xlabel('epoch')\n",
        "plt.ylabel('loss')\n",
        "plt.title('training loss vs validation loss without generator class')\n",
        "plt.legend()\n",
        "plt.show()"
      ],
      "execution_count": 51,
      "outputs": [
        {
          "output_type": "display_data",
          "data": {
            "image/png": "[encoded data removed]",
            "text/plain": [
              "<Figure size 432x288 with 1 Axes>"
            ]
          },
          "metadata": {
            "tags": []
          }
        }
      ]
    },
    {
      "cell_type": "code",
      "metadata": {
        "colab_type": "code",
        "outputId": "f6df39c6-7cd9-4e63-e84f-a84581a94d04",
        "id": "fQI1l1PEC4u5",
        "colab": {
          "base_uri": "https://localhost:8080/",
          "height": 294
        }
      },
      "source": [
        "plt.plot(history.history['accuracy'],'b',label='accuracy')\n",
        "plt.plot(history.history['val_accuracy'],'r',label='val_accuracy')\n",
        "plt.xlabel('epoch')\n",
        "plt.ylabel('accuracy')\n",
        "plt.title('training acc vs validation acc without generator class')\n",
        "plt.legend()\n",
        "plt.show()"
      ],
      "execution_count": 52,
      "outputs": [
        {
          "output_type": "display_data",
          "data": {
            "image/png": "[encoded data removed]",
            "text/plain": [
              "<Figure size 432x288 with 1 Axes>"
            ]
          },
          "metadata": {
            "tags": []
          }
        }
      ]
    }
  ]
}